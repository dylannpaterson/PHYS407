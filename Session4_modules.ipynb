{
 "cells": [
  {
   "cell_type": "markdown",
   "metadata": {
    "slideshow": {
     "slide_type": "slide"
    }
   },
   "source": [
    "# Session 4:\n",
    "\n",
    "# modules"
   ]
  },
  {
   "cell_type": "code",
   "execution_count": 1,
   "metadata": {
    "collapsed": true,
    "slideshow": {
     "slide_type": "skip"
    }
   },
   "outputs": [],
   "source": [
    "%matplotlib inline\n",
    "#please ignore this -- it's a \"special\" command that we only need to enable plotting within the notebook"
   ]
  },
  {
   "cell_type": "markdown",
   "metadata": {
    "slideshow": {
     "slide_type": "slide"
    }
   },
   "source": [
    "## What are modules?\n",
    "\n",
    "* Modules are basically just collections of python commands and functions. \n",
    "\n",
    "* Modules allow us to group together things based on their functionality.\n",
    "\n",
    "* Modules make it easier to *reuse* code.\n",
    "\n",
    "* Modules can be *imported* wholesale, making it easy to make a set related functions available at once to a user or program."
   ]
  },
  {
   "cell_type": "markdown",
   "metadata": {
    "slideshow": {
     "slide_type": "slide"
    }
   },
   "source": [
    "## Functions, modules, scripts and programs"
   ]
  },
  {
   "cell_type": "markdown",
   "metadata": {
    "slideshow": {
     "slide_type": "skip"
    }
   },
   "source": [
    "Before we discuss modules in more detail, let's try to sort out some terminology so it doesn't become confusing.\n",
    "\n",
    "In this course, we've now already talked about *programs*, *functions* and *modules*. All of these refer to collections of python commands. There is even yet another term, *script*, which also refers to a collection of python commands. \n",
    "\n",
    "So what exactly do we mean by those terms, and how are they related to each other? "
   ]
  },
  {
   "cell_type": "markdown",
   "metadata": {
    "slideshow": {
     "slide_type": "fragment"
    }
   },
   "source": [
    "### Functions\n",
    "\n",
    "* defined by the *def* statement<br>\n",
    "\n",
    "* takes a single set of input parameters<br>\n",
    "\n",
    "* carries out a single, well-defined task<br>\n",
    "\n",
    "* calling a function executes it and returns the results<br>"
   ]
  },
  {
   "cell_type": "markdown",
   "metadata": {
    "slideshow": {
     "slide_type": "slide"
    }
   },
   "source": [
    "### Modules\n",
    "\n",
    "* a *collection* of related functions <br>\n",
    "\n",
    "* stored together (e.g. in a file, say \"some_module.py\")<br>\n",
    "\n",
    "* can be *imported* as a whole, \n",
    "    * this makes all functions available at once<br>\n",
    "                    \n",
    "* a collection of *modules* (and maybe *functions*) is called a *package*"
   ]
  },
  {
   "cell_type": "markdown",
   "metadata": {
    "slideshow": {
     "slide_type": "slide"
    }
   },
   "source": [
    "### Scripts\n",
    "\n",
    "* a single piece of code that does something\n",
    "\n",
    "* does not contain new function definitions\n",
    "\n",
    "* may import functions from other modules\n",
    "\n",
    "* stored in a file (e.g. \"some_script.py\")\n",
    "\n",
    "* can be executed\n",
    "    * IPython: \"run some_script\"\n",
    "    * Python/IPython: \"import some_script\"\n",
    "    * command line (e.g. cmd): \"python some_script.py\""
   ]
  },
  {
   "cell_type": "markdown",
   "metadata": {
    "slideshow": {
     "slide_type": "slide"
    }
   },
   "source": [
    "### Programs\n",
    "\n",
    "* a piece of code that does something\n",
    "\n",
    "* contains (new) functions\n",
    "\n",
    "* may also use other modules/functions\n",
    "\n",
    "* stored in a file (e.g. \"some_program.py\")\n",
    "\n",
    "* can be executed\n",
    "    * Ipython: \"run some_program\"\n",
    "    * Python/IPython: \"import some_program\"\n",
    "    * command line (e.g. cmd): \"python some_program.py\""
   ]
  },
  {
   "cell_type": "markdown",
   "metadata": {
    "slideshow": {
     "slide_type": "skip"
    }
   },
   "source": [
    "##### Exercise\n",
    "\n",
    "Write and save a *script* that writes out \"Hello World\". Run the script interactively, as well as from the command line.\n",
    "\n",
    "##### Exercise\n",
    "\n",
    "Write and save a *program* that writes out \"Hello World\". Run the script interactively, as well as from the command line."
   ]
  },
  {
   "cell_type": "markdown",
   "metadata": {
    "slideshow": {
     "slide_type": "slide"
    }
   },
   "source": [
    "## Importing and using modules"
   ]
  },
  {
   "cell_type": "markdown",
   "metadata": {
    "slideshow": {
     "slide_type": "skip"
    }
   },
   "source": [
    "Standard *Python*, and especially version of *Python* that comes with anaconda, comes with a whole host of pre-installed (aka \"built-in\") modules and packages. However, it is also easy to install additional new modules and write your own."
   ]
  },
  {
   "cell_type": "markdown",
   "metadata": {
    "slideshow": {
     "slide_type": "skip"
    }
   },
   "source": [
    "We can obtain a list of all the modules that are currently available via the *help(\"modules\")* command.\n",
    "\n",
    "We can also obtain help on any of these modules via *help(\"module_name\")* , where module_name is the name of the module."
   ]
  },
  {
   "cell_type": "markdown",
   "metadata": {
    "slideshow": {
     "slide_type": "skip"
    }
   },
   "source": [
    "##### Exercise\n",
    "\n",
    "Run help(\"modules\") and then run help() on a few of the built-in modules that pop up. See if you can find anything that looks potentially useful...."
   ]
  },
  {
   "cell_type": "markdown",
   "metadata": {
    "slideshow": {
     "slide_type": "fragment"
    }
   },
   "source": [
    "### Built-in Modules"
   ]
  },
  {
   "cell_type": "markdown",
   "metadata": {
    "slideshow": {
     "slide_type": "skip"
    }
   },
   "source": [
    "Importing built-in modules is easy. \n",
    "\n",
    "Suppose we want to import the module \"math\" because it contains lots of useful functions.\n",
    "\n",
    "All we have to do is:"
   ]
  },
  {
   "cell_type": "code",
   "execution_count": 2,
   "metadata": {
    "collapsed": true,
    "slideshow": {
     "slide_type": "fragment"
    }
   },
   "outputs": [],
   "source": [
    "import math as m"
   ]
  },
  {
   "cell_type": "markdown",
   "metadata": {
    "slideshow": {
     "slide_type": "skip"
    }
   },
   "source": [
    "Once we've done that, we can access any function defined in math as follows:"
   ]
  },
  {
   "cell_type": "code",
   "execution_count": 3,
   "metadata": {
    "collapsed": false,
    "slideshow": {
     "slide_type": "fragment"
    }
   },
   "outputs": [
    {
     "name": "stdout",
     "output_type": "stream",
     "text": [
      "3.14159265359 -1.0\n"
     ]
    }
   ],
   "source": [
    "x = m.pi\n",
    "y = m.cos(x)\n",
    "print x, y "
   ]
  },
  {
   "cell_type": "markdown",
   "metadata": {
    "slideshow": {
     "slide_type": "skip"
    }
   },
   "source": [
    "Since we imported the module *math* \"as m\", all the functions inside it are accessed via \"m.function\"."
   ]
  },
  {
   "cell_type": "markdown",
   "metadata": {
    "slideshow": {
     "slide_type": "slide"
    }
   },
   "source": [
    "If we don't use the \"as m\", we have to refer to the module by its full name:"
   ]
  },
  {
   "cell_type": "code",
   "execution_count": 4,
   "metadata": {
    "collapsed": false,
    "slideshow": {
     "slide_type": "fragment"
    }
   },
   "outputs": [
    {
     "name": "stdout",
     "output_type": "stream",
     "text": [
      "3.14159265359 -1.0\n"
     ]
    }
   ],
   "source": [
    "import math\n",
    "x = math.pi\n",
    "y = math.cos(x)\n",
    "print x, y"
   ]
  },
  {
   "cell_type": "markdown",
   "metadata": {
    "slideshow": {
     "slide_type": "slide"
    }
   },
   "source": [
    "Why can't we just access functions without the \".\" notation?<br>\n",
    "\n",
    "* Because this could easily lead to confusion and errors!<br><br>\n",
    "* What if two modules use the same name for two different functions?"
   ]
  },
  {
   "cell_type": "markdown",
   "metadata": {
    "slideshow": {
     "slide_type": "skip"
    }
   },
   "source": [
    "Actually, it *is* possible to force *Python* to allow us to do this."
   ]
  },
  {
   "cell_type": "code",
   "execution_count": 5,
   "metadata": {
    "collapsed": false,
    "slideshow": {
     "slide_type": "skip"
    }
   },
   "outputs": [
    {
     "name": "stdout",
     "output_type": "stream",
     "text": [
      "3.14159265359 -1.0\n"
     ]
    }
   ],
   "source": [
    "from math import *\n",
    "x = pi\n",
    "y = cos(x)\n",
    "print x, y"
   ]
  },
  {
   "cell_type": "markdown",
   "metadata": {
    "slideshow": {
     "slide_type": "skip"
    }
   },
   "source": [
    "One occasion when this *may* be allowable is when we just want to do some quick-and-dirty interactive calculation or testing.\n",
    "\n",
    "However, it is almost always a bad idea!"
   ]
  },
  {
   "cell_type": "markdown",
   "metadata": {
    "slideshow": {
     "slide_type": "slide"
    }
   },
   "source": [
    "There are four general-purpose modules that are particularly useful for numerical work and data analysis:\n",
    "\n",
    "* *math* <br><br>\n",
    "* *numpy* <br><br>\n",
    "* *scipy* <br><br>\n",
    "* *matplotlib* <br><br>"
   ]
  },
  {
   "cell_type": "markdown",
   "metadata": {
    "slideshow": {
     "slide_type": "slide"
    }
   },
   "source": [
    "#### math"
   ]
  },
  {
   "cell_type": "code",
   "execution_count": 6,
   "metadata": {
    "collapsed": true,
    "slideshow": {
     "slide_type": "fragment"
    }
   },
   "outputs": [],
   "source": [
    "import math"
   ]
  },
  {
   "cell_type": "markdown",
   "metadata": {
    "slideshow": {
     "slide_type": "fragment"
    }
   },
   "source": [
    "This module is **always** available. It provides access to a whole bunch of standard mathematical functions. "
   ]
  },
  {
   "cell_type": "markdown",
   "metadata": {
    "slideshow": {
     "slide_type": "skip"
    }
   },
   "source": [
    "##### Exercise \n",
    "\n",
    "Run *help(\"math\")* to see what functions are provided by the math module. Try out some of them. Make sure to try some of the more interesting ones, such as ones with more than one input variable (e.g. atan) or those whose meaning may not be obvious from their help docstring (e.g. floor)."
   ]
  },
  {
   "cell_type": "markdown",
   "metadata": {
    "slideshow": {
     "slide_type": "slide"
    }
   },
   "source": [
    "#### numpy"
   ]
  },
  {
   "cell_type": "code",
   "execution_count": 7,
   "metadata": {
    "collapsed": true,
    "slideshow": {
     "slide_type": "fragment"
    }
   },
   "outputs": [],
   "source": [
    "import numpy as np"
   ]
  },
  {
   "cell_type": "markdown",
   "metadata": {
    "slideshow": {
     "slide_type": "fragment"
    }
   },
   "source": [
    "*numpy* is actually a *package* (a collection of modules and funtions), rather than just a single module.\n",
    "\n",
    "In addition to making a whole bunch of useful functions available for us, importing *numpy* automatically provides us with a new data type, the *array*."
   ]
  },
  {
   "cell_type": "markdown",
   "metadata": {
    "slideshow": {
     "slide_type": "skip"
    }
   },
   "source": [
    "We'll take a closer look at *arrays* in a minute. For the moment, we'll just note that 1-dimensional arrays are quite similar to lists."
   ]
  },
  {
   "cell_type": "markdown",
   "metadata": {
    "slideshow": {
     "slide_type": "skip"
    }
   },
   "source": [
    "There is little point in listing all of the functions *numpy* makes available to us here. For, now, let's just note that:"
   ]
  },
  {
   "cell_type": "markdown",
   "metadata": {
    "slideshow": {
     "slide_type": "skip"
    }
   },
   "source": [
    "*numpy* is our friend for anything to do with linear algebra, fourier transforms or random numbers.\n",
    "\n",
    "We should use *numpy* arrays instead of lists for just about any numerical tasks (not least because it tends to be faster)."
   ]
  },
  {
   "cell_type": "markdown",
   "metadata": {
    "slideshow": {
     "slide_type": "slide"
    }
   },
   "source": [
    "\"Top-level\" *numpy* functions are accessed in the usual way. For example:"
   ]
  },
  {
   "cell_type": "code",
   "execution_count": 8,
   "metadata": {
    "collapsed": false,
    "slideshow": {
     "slide_type": "fragment"
    }
   },
   "outputs": [
    {
     "name": "stdout",
     "output_type": "stream",
     "text": [
      "<type 'numpy.ndarray'>\n",
      "[1 2 3]\n"
     ]
    }
   ],
   "source": [
    "import numpy as np\n",
    "my_list = [1, 2, 3]\n",
    "my_array = np.array(my_list)\n",
    "print(type(my_array))\n",
    "print(my_array)"
   ]
  },
  {
   "cell_type": "markdown",
   "metadata": {
    "slideshow": {
     "slide_type": "skip"
    }
   },
   "source": [
    "Here, *np.array* is a function defined at the top-level of *numpy* that converts its argument to a *numpy* array (if possible)."
   ]
  },
  {
   "cell_type": "markdown",
   "metadata": {
    "slideshow": {
     "slide_type": "slide"
    }
   },
   "source": [
    "How do we access functions that are defined within other modules within *numpy*? "
   ]
  },
  {
   "cell_type": "markdown",
   "metadata": {
    "slideshow": {
     "slide_type": "skip"
    }
   },
   "source": [
    "Well, one such *numpy* module is *random*, which provides support for random number generation and related tasks. \n",
    "\n",
    "For example, the *random* module contains the function *shuffle*, which takes an array and randomly shuffles its elements around *in place* (i.e. it modifies its input)."
   ]
  },
  {
   "cell_type": "markdown",
   "metadata": {
    "slideshow": {
     "slide_type": "skip"
    }
   },
   "source": [
    "Here is an usage example for the function *shuffle* inside the module *random* insider *numpy*"
   ]
  },
  {
   "cell_type": "code",
   "execution_count": 9,
   "metadata": {
    "collapsed": false,
    "slideshow": {
     "slide_type": "fragment"
    }
   },
   "outputs": [
    {
     "name": "stdout",
     "output_type": "stream",
     "text": [
      "The original array is: [0 1 2 3 4 5 6 7 8 9]\n",
      "The shuffled array is: [9 5 6 2 7 8 1 4 0 3]\n"
     ]
    }
   ],
   "source": [
    "a = np.array(range(10))  # remember the range command?\n",
    "print \"The original array is:\",a\n",
    "np.random.shuffle(a)\n",
    "print \"The shuffled array is:\",a"
   ]
  },
  {
   "cell_type": "markdown",
   "metadata": {
    "slideshow": {
     "slide_type": "skip"
    }
   },
   "source": [
    "Note the obvious syntax here: if a function is defined within a module inside a package, we access it via \"package.module.function\"."
   ]
  },
  {
   "cell_type": "markdown",
   "metadata": {
    "slideshow": {
     "slide_type": "skip"
    }
   },
   "source": [
    "Some packages even contain sub-packages, and the syntax then extends in the obvious way:, i.e. \"package.subpackage.module.function\""
   ]
  },
  {
   "cell_type": "markdown",
   "metadata": {
    "slideshow": {
     "slide_type": "skip"
    }
   },
   "source": [
    "It's also possible to import a specific module (or sub-package) from a package. For example:"
   ]
  },
  {
   "cell_type": "code",
   "execution_count": 10,
   "metadata": {
    "collapsed": false,
    "slideshow": {
     "slide_type": "skip"
    }
   },
   "outputs": [
    {
     "name": "stdout",
     "output_type": "stream",
     "text": [
      "The shuffled array is: [4 3 9 0 5 8 7 1 6 2]\n"
     ]
    }
   ],
   "source": [
    "import numpy.random as ran\n",
    "ran.shuffle(a)\n",
    "print \"The shuffled array is:\", a"
   ]
  },
  {
   "cell_type": "markdown",
   "metadata": {
    "slideshow": {
     "slide_type": "skip"
    }
   },
   "source": [
    "Finally, note that *math* and *numpy* use some of the same function names. For example, the \"sin\" function is defined in both. However, they are not identical -- in particular, only the *numpy* version can act on arrays.\n",
    "\n",
    "This causes no confusion at all even if both modules are imported, so long as we always have to preface the function with the module."
   ]
  },
  {
   "cell_type": "code",
   "execution_count": 11,
   "metadata": {
    "collapsed": false,
    "slideshow": {
     "slide_type": "skip"
    }
   },
   "outputs": [
    {
     "name": "stdout",
     "output_type": "stream",
     "text": [
      "0.963558185417 [ 0.96355819  0.96355819]\n"
     ]
    }
   ],
   "source": [
    "import math\n",
    "import numpy as np\n",
    "f = 1.3\n",
    "a = np.array([1.3, 1.3])\n",
    "sf = math.sin(f)\n",
    "sa = np.sin(a)\n",
    "print sf, sa"
   ]
  },
  {
   "cell_type": "markdown",
   "metadata": {
    "slideshow": {
     "slide_type": "skip"
    }
   },
   "source": [
    "But now consider the lazy version:"
   ]
  },
  {
   "cell_type": "code",
   "execution_count": 12,
   "metadata": {
    "collapsed": false,
    "slideshow": {
     "slide_type": "skip"
    }
   },
   "outputs": [
    {
     "ename": "TypeError",
     "evalue": "only length-1 arrays can be converted to Python scalars",
     "output_type": "error",
     "traceback": [
      "\u001b[0;31m---------------------------------------------------------------------------\u001b[0m",
      "\u001b[0;31mTypeError\u001b[0m                                 Traceback (most recent call last)",
      "\u001b[0;32m<ipython-input-12-94a8f526e2a3>\u001b[0m in \u001b[0;36m<module>\u001b[0;34m()\u001b[0m\n\u001b[1;32m      4\u001b[0m \u001b[0ma\u001b[0m \u001b[0;34m=\u001b[0m \u001b[0marray\u001b[0m\u001b[0;34m(\u001b[0m\u001b[0;34m[\u001b[0m\u001b[0;36m1.3\u001b[0m\u001b[0;34m,\u001b[0m \u001b[0;36m1.3\u001b[0m\u001b[0;34m]\u001b[0m\u001b[0;34m)\u001b[0m\u001b[0;34m\u001b[0m\u001b[0m\n\u001b[1;32m      5\u001b[0m \u001b[0msf\u001b[0m \u001b[0;34m=\u001b[0m \u001b[0msin\u001b[0m\u001b[0;34m(\u001b[0m\u001b[0mf\u001b[0m\u001b[0;34m)\u001b[0m\u001b[0;34m\u001b[0m\u001b[0m\n\u001b[0;32m----> 6\u001b[0;31m \u001b[0msa\u001b[0m \u001b[0;34m=\u001b[0m \u001b[0msin\u001b[0m\u001b[0;34m(\u001b[0m\u001b[0ma\u001b[0m\u001b[0;34m)\u001b[0m\u001b[0;34m\u001b[0m\u001b[0m\n\u001b[0m\u001b[1;32m      7\u001b[0m \u001b[0;32mprint\u001b[0m \u001b[0msf\u001b[0m\u001b[0;34m,\u001b[0m \u001b[0msa\u001b[0m\u001b[0;34m\u001b[0m\u001b[0m\n",
      "\u001b[0;31mTypeError\u001b[0m: only length-1 arrays can be converted to Python scalars"
     ]
    }
   ],
   "source": [
    "from numpy import *\n",
    "from math import *\n",
    "f = 1.3\n",
    "a = array([1.3, 1.3])\n",
    "sf = sin(f)\n",
    "sa = sin(a)\n",
    "print sf, sa"
   ]
  },
  {
   "cell_type": "markdown",
   "metadata": {
    "slideshow": {
     "slide_type": "skip"
    }
   },
   "source": [
    "What happened? \n",
    "\n",
    "Well, there can only be one function called \"sin\" at any one time. So when we imported *math*, we **overwrote** the *numpy* definition of the function. But the *math* version can't handle *arrays*, so when we tried to take the sine of an array, the script fell over.\n",
    "\n",
    "Lesson? \n",
    "\n",
    "Don't be lazy."
   ]
  },
  {
   "cell_type": "markdown",
   "metadata": {
    "slideshow": {
     "slide_type": "skip"
    }
   },
   "source": [
    "##### Exercise:\n",
    "\n",
    "Take a quick look at the *numpy* reference manual to get an idea of what's available for you. The reference manual is available here: http://docs.scipy.org/doc/numpy/reference/\n",
    "\n",
    "Pay particular attention to the section on \"routines\" (aka functions), since this is what we mostly care about for the moment.\n",
    "\n",
    "##### Exercise\n",
    "\n",
    "Try out a bunch of the functions *numpy* provides. Don't make it the most boring ones -- the ones you should try above all are the ones that look potentially useful, but whose usage may not be immediately obvious. For example, check out the \"histogram\" function."
   ]
  },
  {
   "cell_type": "markdown",
   "metadata": {
    "slideshow": {
     "slide_type": "slide"
    }
   },
   "source": [
    "#### scipy"
   ]
  },
  {
   "cell_type": "code",
   "execution_count": null,
   "metadata": {
    "collapsed": true,
    "slideshow": {
     "slide_type": "fragment"
    }
   },
   "outputs": [],
   "source": [
    "from scipy import stats       #imports the sub-package stats from scipy\n",
    "from scipy import stats as s  #if we're really lazy..."
   ]
  },
  {
   "cell_type": "markdown",
   "metadata": {
    "slideshow": {
     "slide_type": "fragment"
    }
   },
   "source": [
    "*scipy* is a scientific computing *package*, i.e. a collection of modules and functions."
   ]
  },
  {
   "cell_type": "markdown",
   "metadata": {
    "slideshow": {
     "slide_type": "slide"
    }
   },
   "source": [
    "*scipy* is huge, and a lot of its functions use the *numpy* array data type. It therefore has a couple of special features:"
   ]
  },
  {
   "cell_type": "markdown",
   "metadata": {
    "slideshow": {
     "slide_type": "fragment"
    }
   },
   "source": [
    "* importing *scipy* also automatically imports *numpy*<br>\n",
    "    * as \"numpy\" (not \"np\")<br>\n",
    "    * we can still do our own import also (e.g. as \"np\" to save typing)<br><br>\n",
    "* *scipy* sub-packages and modules have to be imported explicitly\n",
    "    * best way is via \"from scipy import stats\" \n",
    "    * we can then access *stats* functions via \"stats.describe()\", for example"
   ]
  },
  {
   "cell_type": "markdown",
   "metadata": {
    "slideshow": {
     "slide_type": "skip"
    }
   },
   "source": [
    "As with *numpy*, there is little point in listing all the things you can do with *scipy* here. The best -- and may the only -- way to learn about *scipy* is to first get a rough sense of its contents and functionality and then just start using it.\n",
    "\n",
    "##### Exercise\n",
    "\n",
    "Take a look at the official *scipy* reference guide http://docs.scipy.org/doc/scipy/reference/index.html Don't worry about details at this stage -- just take a look at the sub-packages that are available and take a look at a few of them that look particularly interesting and useful to you (\"stats\" may be one of those:).\n",
    "\n",
    "##### Exercise\n",
    "\n",
    "Play around with at least 3 functions each from 3 different sub-packages. Make sure you understand how to use them correctly.\n",
    "\n",
    "##### Exercise\n",
    "\n",
    "Write (and save) a script that first creates an *array* consisting of 100 random *floats* numbers between 0 and 100. The script should then tell you (and print nicely) some basic useful summary statistics: the mean, standard deviation, minimum and maximum, at least."
   ]
  },
  {
   "cell_type": "markdown",
   "metadata": {
    "slideshow": {
     "slide_type": "slide"
    }
   },
   "source": [
    "#### matplotlib"
   ]
  },
  {
   "cell_type": "code",
   "execution_count": null,
   "metadata": {
    "collapsed": true,
    "slideshow": {
     "slide_type": "fragment"
    }
   },
   "outputs": [],
   "source": [
    "import matplotlib.pyplot as plt"
   ]
  },
  {
   "cell_type": "markdown",
   "metadata": {
    "slideshow": {
     "slide_type": "fragment"
    }
   },
   "source": [
    "*matplotlib* is a *package* that provides functions for making plots with python. \n",
    "\n",
    "Like *numpy* and *scipy*, it's a *package*, so it contains several modules. \n",
    "\n",
    "For our purposes, the only module we will probably need is the *pyplot* module, which is often imported as \"plt\" (by convention).\n",
    "\n",
    "*pyplot* provides all of the basic (and not so basic) plotting functionality that allows us to make nice, production-quality plots and figures with *python*."
   ]
  },
  {
   "cell_type": "markdown",
   "metadata": {
    "slideshow": {
     "slide_type": "skip"
    }
   },
   "source": [
    "There are ways to get even more control over plots within *matplotlib* by going beyond the *pyplot* module, but that's an advanced topic. Here, we're interested in the sort of practical utility that is enough 99% of the time, and that's what *pyplot* provides."
   ]
  },
  {
   "cell_type": "markdown",
   "metadata": {
    "slideshow": {
     "slide_type": "skip"
    }
   },
   "source": [
    "We'll take a closer look at how to make nice plots with *matplotlib* later in the course. However, just as a little taste, here as an example of how easy it is to write a simple, but useful script that creates and manipulates some data and makes a nice figure.\n",
    "\n",
    "Suppose we want to simulate a data set that is expected to vary sinusoidally, but is expected to have a Gaussian error on it. We want to create the fake data set, plot it, and overplot the \"true\" sinusoid."
   ]
  },
  {
   "cell_type": "code",
   "execution_count": 13,
   "metadata": {
    "collapsed": false,
    "slideshow": {
     "slide_type": "slide"
    }
   },
   "outputs": [
    {
     "data": {
      "image/png": "[encoded data removed]",
      "text/plain": [
       "<matplotlib.figure.Figure at 0x7fe49c3a0d10>"
      ]
     },
     "metadata": {},
     "output_type": "display_data"
    }
   ],
   "source": [
    "import numpy as np\n",
    "import matplotlib.pyplot as plt\n",
    "\n",
    "#create the fake data\n",
    "x = np.linspace(0.0, 4.0*np.pi, 30)   #creates 30 evenly spaced x-values between 0 and 4*pi\n",
    "s_true = np.sin(x)                    #the true sinusoid\n",
    "err = 0.2                             #the size of the error we want to simulate\n",
    "s_err = err + 0.0*x                   #an array of the same length as x, with each element being size err\n",
    "s_fake = s_true + np.random.normal(0.0, err, len(x)) #adds a gaussian random error of size 0.1 to each point\n",
    "\n",
    "#create a well-sampled \"true\" sinusoid\n",
    "xt = np.linspace(0.0, 4.0*np.pi, 1000)   #creates 1000 evenly spaced x-values between 0 and 4*pi\n",
    "st = np.sin(xt)                           #the true sinusoid, but sampled more nicely\n",
    "\n",
    "\n",
    "plt.plot(x, s_fake, marker='o',linestyle='None', color='black')   #plot the fake data points\n",
    "plt.errorbar(x, s_fake, yerr=err, linestyle='None', color='black') #plot error bars on the fake data\n",
    "plt.plot(xt, st, linestyle='-', color='red')     #plot the true sinusoid\n",
    "\n",
    "plt.xlabel('x')     #x-axis label\n",
    "plt.ylabel('y')     #y-axis label\n",
    "plt.xlim(-1.0,14.0) #set limits of x-axis\n",
    "\n",
    "plt.show()  #actually create the output"
   ]
  },
  {
   "cell_type": "markdown",
   "metadata": {
    "slideshow": {
     "slide_type": "skip"
    }
   },
   "source": [
    "##### Exercise\n",
    "\n",
    "Play around with the script above. Save it to a file (e.g. sineplot.py), read it into *spyder*, run it to make sure it's fine, and then mess with various aspects of the script to get a feeling for how you can make the script do what you want. \n",
    "\n",
    "Why did we create a \"nicely sampled\" version of the \"true\" sinusoid? How do things look with larger/smaller error bars? With more or fewer data points? What if we don't make the function a sinusoid but something else? Can we create error bars that are different for each data point -- perhaps the increase linearly with x?\n",
    "\n",
    "The pyplot tutorial may be helpful: http://matplotlib.org/users/pyplot_tutorial.html Of course, you should also do your own googling if/when you get stuck on something -- there is a *ton* of information available online on python, including *matplotlib*."
   ]
  },
  {
   "cell_type": "markdown",
   "metadata": {
    "slideshow": {
     "slide_type": "slide"
    }
   },
   "source": [
    "### Creating new modules"
   ]
  },
  {
   "cell_type": "markdown",
   "metadata": {
    "slideshow": {
     "slide_type": "skip"
    }
   },
   "source": [
    "Creating new modules in python is trivial. "
   ]
  },
  {
   "cell_type": "markdown",
   "metadata": {
    "slideshow": {
     "slide_type": "skip"
    }
   },
   "source": [
    "Suppose we have a couple of functions, say *add_two* and *add_four*.  We want to store these in a module that we can easily import and use. So we just store the two functions in a file with extension \".py\" (e.g. \"addem.py\"), and we can then import this. So..."
   ]
  },
  {
   "cell_type": "markdown",
   "metadata": {
    "slideshow": {
     "slide_type": "fragment"
    }
   },
   "source": [
    "If \"addem.py\" contains the function \"add_four\", we can immediately do this:"
   ]
  },
  {
   "cell_type": "code",
   "execution_count": null,
   "metadata": {
    "collapsed": true,
    "slideshow": {
     "slide_type": "fragment"
    }
   },
   "outputs": [],
   "source": [
    "import addem\n",
    "\n",
    "x = addem.add_four(2.0)\n",
    "print(x)"
   ]
  },
  {
   "cell_type": "markdown",
   "metadata": {
    "slideshow": {
     "slide_type": "skip"
    }
   },
   "source": [
    "* The only thing we have to watch out for here is that *Python* has to know where to look for this file. \n",
    "\n",
    "* The easiest way to ensure this is to just run *Python/IPython* from the directory that contains the file."
   ]
  },
  {
   "cell_type": "markdown",
   "metadata": {
    "slideshow": {
     "slide_type": "skip"
    }
   },
   "source": [
    "##### Exercise\n",
    "\n",
    "Write and save a *program* (not a script) that defines some (mathematical) function and then uses the trapezium rule to estimate the definite integral of that function between two limits.\n",
    "\n",
    "I think all of you will have covered this in A-level Maths, but if you've forgotten: the definite integral is the area under the curve defined by the function. Also, the trapezium rule says you can approximate this by breaking that area up into little trapeziums and adding up their areas. If you need more info, just google it.\n",
    "\n",
    "Compare the output from your program to the built-in trapezium rule integration in *numpy*.\n",
    "\n",
    "Note that this *program* should also be a *module*, in the sense that it should contain at least two functions that we can use quite separately from the program (the mathematical function and the integrating function). Try importing the file as a *module* and running the two functions as \"stand-alone\" functions.\n",
    "\n",
    "##### Exercise\n",
    "\n",
    "Once you have this program, modify it so your trapezium rule function takes the number of trapeziums to use as an input parameter. Now call the function in the body of a loop for lots of different numbers of trapeziums. For each call, estimate the error in the answer (by comparing to a call with a really large number of trapeziums). The final output should be a plot of the error made as a function of the number of trapeziums used.\n",
    "\n",
    "Your plot should tell you how many trapeziums you need in order to get an answer that is accurate to, say, 1%. Do you think this same number is *always* going to provide answers accurate to 1%? Does the accuracy depend on anything else? If so, what?"
   ]
  },
  {
   "cell_type": "markdown",
   "metadata": {},
   "source": [
    "##### Exercise\n",
    "\n",
    "See if you can figure out how *2-dimensional* numpy arrays work. We will discuss these in detail in the next session. Here is one reason you might want to care about these: they are by far the most natural way to implement the game board for Tic-Tac-Toe or Connect 4!\n",
    "\n",
    "#### Exercise\n",
    "\n",
    "Think about which (parts of) the modules we have learned about will be useful to you in writing your code to play Tic-Tac-Toe or Connect 4. Pick one distinct task associated with one of the games and write a function that implements this task, ideally one that involves a routine or data type from one of the modules we have learned about."
   ]
  }
 ],
 "metadata": {
  "kernelspec": {
   "display_name": "Python 2",
   "language": "python",
   "name": "python2"
  },
  "language_info": {
   "codemirror_mode": {
    "name": "ipython",
    "version": 3
   },
   "file_extension": ".py",
   "mimetype": "text/x-python",
   "name": "python",
   "nbconvert_exporter": "python",
   "pygments_lexer": "ipython3",
   "version": "3.6.3"
  },
  "latex_envs": {
   "bibliofile": "biblio.bib",
   "cite_by": "apalike",
   "current_citInitial": 1,
   "eqLabelWithNumbers": true,
   "eqNumInitial": 0
  }
 },
 "nbformat": 4,
 "nbformat_minor": 1
}
