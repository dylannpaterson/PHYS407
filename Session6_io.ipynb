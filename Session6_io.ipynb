{
 "cells": [
  {
   "cell_type": "markdown",
   "metadata": {
    "slideshow": {
     "slide_type": "slide"
    }
   },
   "source": [
    "# Session 6: input and output"
   ]
  },
  {
   "cell_type": "markdown",
   "metadata": {
    "slideshow": {
     "slide_type": "fragment"
    }
   },
   "source": [
    "One of the most basic, but important things we need to be able to do is provide *input* to a program or script, and to have the program generate *output*."
   ]
  },
  {
   "cell_type": "markdown",
   "metadata": {
    "slideshow": {
     "slide_type": "fragment"
    }
   },
   "source": [
    "There are two distinct types of input and output (I/O):\n",
    "\n",
    "* *Interactive* I/O<br><br>\n",
    "    * reading from the keyboard<br><br>\n",
    "    * writing to the screen<br><br>\n",
    "* *File-based* I/O<br><br>\n",
    "    * reading from a file<br><br>\n",
    "    * writing to a file<br><br>"
   ]
  },
  {
   "cell_type": "markdown",
   "metadata": {
    "slideshow": {
     "slide_type": "skip"
    }
   },
   "source": [
    "##### Exercise\n",
    "\n",
    "Actually, keyboard and screen are not the only types of interactive I/O that are possible. \n",
    "\n",
    "Think of at least one other type of input and one other type of output.\n",
    "\n",
    "Investigate (OK, google) whether/how these types of I/O can be dealt with within *Python*. Are there built-in functions or functions within the modules we've already discussed? Perhaps there are functions within some of the modules pre-loaded in anaconda? Or are the packages/modules you could download somewhere?"
   ]
  },
  {
   "cell_type": "markdown",
   "metadata": {
    "slideshow": {
     "slide_type": "slide"
    }
   },
   "source": [
    "## Interactive output\n",
    "\n",
    "Interactive output to the screen typically happens via the *print* command (which we know and love)."
   ]
  },
  {
   "cell_type": "markdown",
   "metadata": {
    "slideshow": {
     "slide_type": "fragment"
    }
   },
   "source": [
    "### Simple print\n",
    "\n",
    "The way we have used the *print* command so far is referred to as \"simple printing\". \n",
    "\n",
    "This means that we simply type \"print\", followed by the list of objects we want to print, separated by commas."
   ]
  },
  {
   "cell_type": "code",
   "execution_count": 120,
   "metadata": {
    "slideshow": {
     "slide_type": "fragment"
    }
   },
   "outputs": [
    {
     "name": "stdout",
     "output_type": "stream",
     "text": [
      "10\n",
      "\n",
      "Attitude Adjuster\n",
      "\n",
      "10 Attitude Adjuster\n",
      "\n",
      "The number a =  10\n",
      "\n",
      "The number is  10  and the string is  Attitude Adjuster\n"
     ]
    }
   ],
   "source": [
    "a = 10\n",
    "b = 'Attitude Adjuster'\n",
    "print a\n",
    "print\n",
    "print b\n",
    "print\n",
    "print a, b\n",
    "print\n",
    "print \"The number a = \" , a\n",
    "print\n",
    "print \"The number is \", a, \" and the string is \", b"
   ]
  },
  {
   "cell_type": "markdown",
   "metadata": {
    "slideshow": {
     "slide_type": "skip"
    }
   },
   "source": [
    "Note that <br>\n",
    "\n",
    "* *Python* automatically adds a space between every object that is printed.<br><br>\n",
    "\n",
    "* every *print* command starts printing on a new line<br><br>\n",
    "    * so a *print* on its own is a way to add vertical space<br><br>\n",
    "    * we can suppress that behaviour by finishing the *print* statement with a comma<br><br>"
   ]
  },
  {
   "cell_type": "code",
   "execution_count": 121,
   "metadata": {
    "slideshow": {
     "slide_type": "skip"
    }
   },
   "outputs": [
    {
     "name": "stdout",
     "output_type": "stream",
     "text": [
      "This is the beginning of a single line...   ...and this is the end of the same line.\n"
     ]
    }
   ],
   "source": [
    "print \"This is the beginning of a single line...\",\n",
    "print \"  ...and this is the end of the same line.\""
   ]
  },
  {
   "cell_type": "markdown",
   "metadata": {
    "slideshow": {
     "slide_type": "skip"
    }
   },
   "source": [
    "One additional thing to note here is that the syntax of the *print* command has changed slightly between *Python 2* and *Python 3*. \n",
    "\n",
    "The main difference is that, in *Python 3*, *print* is effectively considered as a normal function, which requires parenthesis when called. \n",
    "\n",
    "Somewhat weirdly though, if there is more than one argument, each must be provided in its own parentheses (at least if we want to replicate the behaviour of simple printing as in *Python 2*).\n",
    "\n",
    "That new syntax is actually also allowed in later versions of *Python 2*, so if we want to write code compatible with both versions, we could make a point of always writing print statements like this:"
   ]
  },
  {
   "cell_type": "code",
   "execution_count": 122,
   "metadata": {
    "slideshow": {
     "slide_type": "skip"
    }
   },
   "outputs": [
    {
     "name": "stdout",
     "output_type": "stream",
     "text": [
      "Hello World!\n",
      "Hello World oops, I forgot the exclamation mark!\n",
      "Hello World oops, I forgot the exclamation mark!\n"
     ]
    }
   ],
   "source": [
    "print(\"Hello World!\")\n",
    "print(\"Hello World\"),(\"oops, I forgot the exclamation mark!\")\n",
    "print(\"Hello World\"),\n",
    "print(\"oops, I forgot the exclamation mark!\")"
   ]
  },
  {
   "cell_type": "markdown",
   "metadata": {
    "slideshow": {
     "slide_type": "skip"
    }
   },
   "source": [
    "It would probably not be a bad idea to do this as a matter of course. However, since I'm so used to the *Python 2* version, I'll most likely forget to do that. \n",
    "\n",
    "It's your call if you want to do the same."
   ]
  },
  {
   "cell_type": "markdown",
   "metadata": {
    "slideshow": {
     "slide_type": "slide"
    }
   },
   "source": [
    "### Formatted printing"
   ]
  },
  {
   "cell_type": "markdown",
   "metadata": {
    "slideshow": {
     "slide_type": "skip"
    }
   },
   "source": [
    "One of the downsides of simple printing is that it gives us very little control over how things appear on the printed line.\n",
    "\n",
    "For example, maybe we want to print just the first few decimal places of a *float*. Simple printing doesn't allow that:"
   ]
  },
  {
   "cell_type": "code",
   "execution_count": 123,
   "metadata": {
    "slideshow": {
     "slide_type": "skip"
    }
   },
   "outputs": [
    {
     "name": "stdout",
     "output_type": "stream",
     "text": [
      "3.14159265359\n"
     ]
    }
   ],
   "source": [
    "import math\n",
    "print math.pi"
   ]
  },
  {
   "cell_type": "markdown",
   "metadata": {
    "slideshow": {
     "slide_type": "skip"
    }
   },
   "source": [
    "The solution is formatted printing. The best way to illustrate how this works is by example."
   ]
  },
  {
   "cell_type": "markdown",
   "metadata": {
    "slideshow": {
     "slide_type": "fragment"
    }
   },
   "source": [
    "Here is how we would print pi with a formatted *print* command, in a whole bunch of different formats:"
   ]
  },
  {
   "cell_type": "code",
   "execution_count": 124,
   "metadata": {
    "slideshow": {
     "slide_type": "fragment"
    }
   },
   "outputs": [
    {
     "name": "stdout",
     "output_type": "stream",
     "text": [
      "Pi =  3.14\n"
     ]
    }
   ],
   "source": [
    "print \"Pi = %5.2f\" % math.pi     #print as float: \n",
    "                                 #5 spaces in total, 2 decimal places"
   ]
  },
  {
   "cell_type": "code",
   "execution_count": 125,
   "metadata": {
    "slideshow": {
     "slide_type": "fragment"
    }
   },
   "outputs": [
    {
     "name": "stdout",
     "output_type": "stream",
     "text": [
      "Pi =  3\n"
     ]
    }
   ],
   "source": [
    "print \"Pi = %2d\" % math.pi       #print integer part (truncate if reqd):\n",
    "                                 #2 spaces in total      "
   ]
  },
  {
   "cell_type": "code",
   "execution_count": 126,
   "metadata": {
    "slideshow": {
     "slide_type": "fragment"
    }
   },
   "outputs": [
    {
     "name": "stdout",
     "output_type": "stream",
     "text": [
      "Pi =  3.142e+00\n"
     ]
    }
   ],
   "source": [
    "print \"Pi = %10.3e\" % math.pi     #print in exponential notation: \n",
    "                                  #10 spaces total, 3 decimal places"
   ]
  },
  {
   "cell_type": "code",
   "execution_count": 127,
   "metadata": {
    "slideshow": {
     "slide_type": "fragment"
    }
   },
   "outputs": [
    {
     "name": "stdout",
     "output_type": "stream",
     "text": [
      "Pi = 3.14159265359\n"
     ]
    }
   ],
   "source": [
    "print \"Pi = %10s\" % math.pi      #print as a string: \n",
    "                                 #10 spaces total"
   ]
  },
  {
   "cell_type": "markdown",
   "metadata": {
    "slideshow": {
     "slide_type": "skip"
    }
   },
   "source": [
    "The general notation here is hopefully pretty obvious -- the main thing you need to remember is the letter that denotes what format to use (e.g. \"f\", \"d\", \"e\", \"s\")."
   ]
  },
  {
   "cell_type": "markdown",
   "metadata": {
    "slideshow": {
     "slide_type": "skip"
    }
   },
   "source": [
    "What if we want to print out more than one object? Easy:"
   ]
  },
  {
   "cell_type": "code",
   "execution_count": 128,
   "metadata": {
    "slideshow": {
     "slide_type": "skip"
    }
   },
   "outputs": [
    {
     "name": "stdout",
     "output_type": "stream",
     "text": [
      "Pi =  3.14   e =  2.72\n"
     ]
    }
   ],
   "source": [
    "print \"Pi = %5.2f   e = %5.2f\" % (math.pi, math.e)"
   ]
  },
  {
   "cell_type": "markdown",
   "metadata": {
    "slideshow": {
     "slide_type": "skip"
    }
   },
   "source": [
    "So the thing that we are asking to be printed -- the thing after the \"%\" -- is actually provided to the formatted print statement as a *tuple*."
   ]
  },
  {
   "cell_type": "markdown",
   "metadata": {
    "slideshow": {
     "slide_type": "skip"
    }
   },
   "source": [
    "There are a couple of additional important things we should know:<br>\n",
    "\n",
    "1. *printing* always involves an initial conversion of the output to a single string<br>\n",
    "\n",
    "2. this implies we don't immediately have to print this string; we could *store* it instead"
   ]
  },
  {
   "cell_type": "code",
   "execution_count": 129,
   "metadata": {
    "slideshow": {
     "slide_type": "skip"
    }
   },
   "outputs": [
    {
     "name": "stdout",
     "output_type": "stream",
     "text": [
      "Pi =  3.14   e =  2.72\n"
     ]
    }
   ],
   "source": [
    "output = \"Pi = %5.2f   e = %5.2f\" % (math.pi, math.e)\n",
    "print output"
   ]
  },
  {
   "cell_type": "markdown",
   "metadata": {
    "slideshow": {
     "slide_type": "skip"
    }
   },
   "source": [
    "The other thing to note is that there are two fundamental ways to convert non-*strings* to *strings*. Both are actually implemented as *methods* that every data type should have:\n",
    "\n",
    "1. \"str\" and \"__str__\"\n",
    "    * all objects in *Python* should provide a method \"__str__\" \n",
    "    * this method should return a nice string representation of the object\n",
    "    * this method is what's being called when we use the \"%s\" formatting statement\n",
    "    * it's also what is called when we use the \"str()\" function to convert<br><br>\n",
    "    \n",
    "2. \"repr\" and \"__repr__\"\n",
    "    * all objects in *Python* should provide a method \"__repr__\" \n",
    "    * this method should return another string representation of the object\n",
    "    * this representation should be such that the built-in function *eval* recreates the object     \n",
    "    * this method is what's being called when we use the \"%r\" formatting statement\n",
    "    * this *method* is called when we use the \"repr()\" function to convert"
   ]
  },
  {
   "cell_type": "markdown",
   "metadata": {
    "slideshow": {
     "slide_type": "skip"
    }
   },
   "source": [
    "All of this probably seems a little strange, but a couple of examples should clarify it:"
   ]
  },
  {
   "cell_type": "code",
   "execution_count": 130,
   "metadata": {
    "slideshow": {
     "slide_type": "skip"
    }
   },
   "outputs": [
    {
     "name": "stdout",
     "output_type": "stream",
     "text": [
      "<type 'float'>\n",
      "3.14159265359\n",
      "3.14159265359\n",
      "3.14159265359\n",
      "\n",
      "3.141592653589793\n",
      "3.141592653589793\n",
      "3.141592653589793\n",
      "3.141592653589793\n",
      "<type 'float'>\n"
     ]
    }
   ],
   "source": [
    "mypi = math.pi\n",
    "print type(mypi)\n",
    "print mypi.__str__()   #looks awkward, I know, but illustrates the underlying method\n",
    "print \"%10s\" % mypi    #%s formatting statement; calls __str__\n",
    "print str(mypi)        #str() function; calls __str__\n",
    "#\n",
    "print\n",
    "#\n",
    "print mypi.__repr__()  #looks awkward, I know, but illustrates the underlying method\n",
    "print \"%10r\" % mypi\n",
    "print repr(mypi)\n",
    "test = eval(repr(mypi))\n",
    "print \"%0.15f\" % test  #note that \"%0.15f\" means \"use as many spaces as you need\"\n",
    "print type(test)       #checking that \"eval(repr)\" has in, fact, returned the original type"
   ]
  },
  {
   "cell_type": "markdown",
   "metadata": {
    "slideshow": {
     "slide_type": "skip"
    }
   },
   "source": [
    "##### Exercise\n",
    "\n",
    "What happens when we use the \"eval\" function on the *string* created by \"str()\"?"
   ]
  },
  {
   "cell_type": "markdown",
   "metadata": {
    "slideshow": {
     "slide_type": "skip"
    }
   },
   "source": [
    "Here is a complete list of the various formatting code that are available:"
   ]
  },
  {
   "cell_type": "markdown",
   "metadata": {
    "slideshow": {
     "slide_type": "slide"
    }
   },
   "source": [
    "|Formatting code|Meaning|\n",
    "|:-------------:|-------|\n",
    "|  d  |\tSigned integer decimal.\t |\n",
    "|  i  |\tSigned integer decimal.\t |\n",
    "|  o  | Signed octal value.|\n",
    "|  u  |\tObsolete type – it is identical to 'd'.|\n",
    "|  x  |\tSigned hexadecimal (lowercase).|\n",
    "|  X  |\tSigned hexadecimal (uppercase).|\n",
    "|  e  |\tFloating point exponential format (lowercase).|\n",
    "|  E  |\tFloating point exponential format (uppercase).|\n",
    "|  f  |\tFloating point decimal format.|\n",
    "|  F  |\tFloating point decimal format.|\n",
    "|  g  |\tFloating point format.  Uses lowercase exponential format if exponent is less than -4 or not less than precision, decimal format otherwise.|\n",
    "|  G  |\tFloating point format. Uses uppercase exponential format if exponent is less than -4 or not less than precision, decimal format otherwise.|\n",
    "|  c  |\tSingle character (accepts integer or single character string).|\n",
    "|  r  |\tString (converts any Python object using repr()).|\n",
    "|  s  |\tString (converts any Python object using str()).|\n",
    "|  %  |\tNo argument is converted, results in a '%' character in the result.|"
   ]
  },
  {
   "cell_type": "markdown",
   "metadata": {
    "slideshow": {
     "slide_type": "skip"
    }
   },
   "source": [
    "##### Exercise\n",
    "\n",
    "Play around with both formatted and unformatted printing. Try to get a feel for how you can generate attractive-looking output for the user. \n",
    "\n",
    "As a specific example, suppose you want to print a *list* of *lists* (of various data types). Write a function that will print this in an attractive format, no matter what the data type."
   ]
  },
  {
   "cell_type": "markdown",
   "metadata": {
    "slideshow": {
     "slide_type": "slide"
    }
   },
   "source": [
    "## Interactive input\n",
    "\n",
    "How do we go about allowing the user of our program to provide input via the keyboard?\n",
    "\n",
    "*Python* provides two basic functions for this that we should know about."
   ]
  },
  {
   "cell_type": "markdown",
   "metadata": {
    "slideshow": {
     "slide_type": "fragment"
    }
   },
   "source": [
    "### raw_input"
   ]
  },
  {
   "cell_type": "markdown",
   "metadata": {
    "slideshow": {
     "slide_type": "skip"
    }
   },
   "source": [
    "We've actually already met the \"raw_input()\" function -- I briefly explained it in the context of the tic-tac-toe exercise at the end of the last session."
   ]
  },
  {
   "cell_type": "markdown",
   "metadata": {
    "slideshow": {
     "slide_type": "fragment"
    }
   },
   "source": [
    "raw_input() asks the user for input from the keyboard; its optional input parameter is a prompt *string* provided to the user. It *always* returns the input as a *string*."
   ]
  },
  {
   "cell_type": "code",
   "execution_count": 131,
   "metadata": {
    "slideshow": {
     "slide_type": "fragment"
    }
   },
   "outputs": [
    {
     "name": "stdout",
     "output_type": "stream",
     "text": [
      "enter your house number as a stringten\n",
      "The number was ten and its type was <type 'str'>\n",
      "\n",
      "enter your house number as an integer10\n",
      "The number was 10 and its type was <type 'str'>\n"
     ]
    }
   ],
   "source": [
    "nr_s = raw_input('enter your house number as a string')\n",
    "print 'The number was', nr_s, 'and its type was', type(nr_s)\n",
    "#\n",
    "print\n",
    "#\n",
    "nr_i =  raw_input('enter your house number as an integer')\n",
    "print 'The number was', nr_i, 'and its type was', type(nr_i)"
   ]
  },
  {
   "cell_type": "markdown",
   "metadata": {
    "slideshow": {
     "slide_type": "skip"
    }
   },
   "source": [
    "In the hints for the tic-tac-toe exercise, we saw how already saw how we can convert input strings into other data types. \n",
    "\n",
    "In particular, we saw how to convert input of the form \"1, 2\" into a numerical list via the *split()* *method* and the *map()* *function*:"
   ]
  },
  {
   "cell_type": "code",
   "execution_count": 132,
   "metadata": {
    "slideshow": {
     "slide_type": "skip"
    }
   },
   "outputs": [
    {
     "name": "stdout",
     "output_type": "stream",
     "text": [
      "['1', '2', '2']\n",
      "[1, 2, 2]\n"
     ]
    }
   ],
   "source": [
    "my_input = '1 2 2'\n",
    "split_input = my_input.split(\" \")\n",
    "listint_input = map(int,split_input)\n",
    "print split_input\n",
    "print listint_input"
   ]
  },
  {
   "cell_type": "markdown",
   "metadata": {
    "slideshow": {
     "slide_type": "skip"
    }
   },
   "source": [
    "For simpler input (e.g. a single integer), we can of course also just rely on the *eval()* function:"
   ]
  },
  {
   "cell_type": "code",
   "execution_count": 133,
   "metadata": {
    "slideshow": {
     "slide_type": "skip"
    }
   },
   "outputs": [
    {
     "name": "stdout",
     "output_type": "stream",
     "text": [
      "2 <type 'int'>\n"
     ]
    }
   ],
   "source": [
    "my_input = \"2\"\n",
    "my_input_i = eval(my_input)\n",
    "print my_input_i, type(my_input_i)"
   ]
  },
  {
   "cell_type": "markdown",
   "metadata": {
    "slideshow": {
     "slide_type": "slide"
    }
   },
   "source": [
    "### (not so raw) input\n",
    "\n",
    "The other way to read user input from the keyboard is via the function *input()*. \n",
    "\n",
    "This function is a bit more snazzy than *raw_input()*, in that it tries to *guess* what sort of data type we want to enter:"
   ]
  },
  {
   "cell_type": "code",
   "execution_count": 134,
   "metadata": {
    "slideshow": {
     "slide_type": "fragment"
    }
   },
   "outputs": [
    {
     "name": "stdout",
     "output_type": "stream",
     "text": [
      "enter an integer: 10\n",
      "10 <type 'int'>\n"
     ]
    }
   ],
   "source": [
    "i = input('enter an integer: ')\n",
    "print i, type(i)"
   ]
  },
  {
   "cell_type": "code",
   "execution_count": 135,
   "metadata": {
    "slideshow": {
     "slide_type": "fragment"
    }
   },
   "outputs": [
    {
     "name": "stdout",
     "output_type": "stream",
     "text": [
      "enter a float: 10.0\n",
      "10.0 <type 'float'>\n"
     ]
    }
   ],
   "source": [
    "f = input('enter a float: ')\n",
    "print f, type(f)"
   ]
  },
  {
   "cell_type": "code",
   "execution_count": 136,
   "metadata": {
    "slideshow": {
     "slide_type": "fragment"
    }
   },
   "outputs": [
    {
     "name": "stdout",
     "output_type": "stream",
     "text": [
      "enter a string (use quotes!): \"test\"\n",
      "test <type 'str'>\n"
     ]
    }
   ],
   "source": [
    "s = input('enter a string (use quotes!): ')\n",
    "print s, type(s)"
   ]
  },
  {
   "cell_type": "markdown",
   "metadata": {
    "slideshow": {
     "slide_type": "slide"
    }
   },
   "source": [
    "The *input()* function is actually pretty clever -- it even works for lists and tuples:"
   ]
  },
  {
   "cell_type": "code",
   "execution_count": 137,
   "metadata": {
    "slideshow": {
     "slide_type": "fragment"
    }
   },
   "outputs": [
    {
     "name": "stdout",
     "output_type": "stream",
     "text": [
      "enter a list (use standard list notation): [1, 2, 3]\n",
      "[1, 2, 3] <type 'list'>\n",
      "enter a tuple (use standard tuple notation with parentheses): (1, 2, 3)\n",
      "(1, 2, 3) <type 'tuple'>\n",
      "enter a tuple (use standard tuple notation without parentheses): 1, 2, 3\n",
      "(1, 2, 3) <type 'tuple'>\n"
     ]
    }
   ],
   "source": [
    "l = input('enter a list (use standard list notation): ')\n",
    "print l, type(l)\n",
    "t = input('enter a tuple (use standard tuple notation with parentheses): ')\n",
    "print t, type(t)\n",
    "t = input('enter a tuple (use standard tuple notation without parentheses): ')\n",
    "print t, type(t)"
   ]
  },
  {
   "cell_type": "markdown",
   "metadata": {
    "slideshow": {
     "slide_type": "skip"
    }
   },
   "source": [
    "Note that this means that we could have saved ourselves all that pain of using *split()* and *map()* in our tic-tac-toe program. Sorry about that -- I thought it'd be useful for you to learn these things :)"
   ]
  },
  {
   "cell_type": "markdown",
   "metadata": {
    "slideshow": {
     "slide_type": "skip"
    }
   },
   "source": [
    "##### Exercise\n",
    "\n",
    "Write a function that prompts the user for input and then reads this and tests it for validity. \n",
    "\n",
    "For example, the function might prompt the user to enter a real number, read that number, and complain if the user entered something that isn't a real number. In that case, it should reprompt a finite number of times (say 3 times), before finally stopping with an error message.\n",
    "\n",
    "##### Exercise\n",
    "\n",
    "First, write a function that prompts the user to generate a 4-digit PIN. It should ask the user to enter this twice and make sure that the same PIN was entered both times (and repeat the operation if it wasn't). The function should then return the PIN to the calling program.\n",
    "\n",
    "Then write another function that will prompt the user for her PIN, giving her 3 attempts to enter it correctly. If the correct PIN is entered, the function should call another function (let's call it \"access_granted\"), if the incorrect PIN is entered 3 times, it should call yet another function (let's call it \"access_denied\"). Write those functions as well, but just make them \"dummies\" for now -- i.e. all they have to do is print \"access granted\" or \"access denied\". \n",
    "\n",
    "Finally, write a wrapper main program that calls your functions and test it all out."
   ]
  },
  {
   "cell_type": "markdown",
   "metadata": {
    "slideshow": {
     "slide_type": "slide"
    }
   },
   "source": [
    "## reading and writing files"
   ]
  },
  {
   "cell_type": "markdown",
   "metadata": {
    "slideshow": {
     "slide_type": "skip"
    }
   },
   "source": [
    "Of course, we don't always want to just read from the keyboard and write to the screen.\n",
    "\n",
    "More often than not, the data we want to read in will be stored in a file, and the results our program produces will need to be written to another file."
   ]
  },
  {
   "cell_type": "markdown",
   "metadata": {
    "slideshow": {
     "slide_type": "skip"
    }
   },
   "source": [
    "The most basic way of reading and writing files in *Python* involves *opening* a file *object* and then using the *read* and *write* methods that are automatically available for such *objects*."
   ]
  },
  {
   "cell_type": "markdown",
   "metadata": {
    "slideshow": {
     "slide_type": "skip"
    }
   },
   "source": [
    "You may be a little confused at this point that we're referring to a *method* associated with an *object*. After all, we haven't formally defined the term *object* in the course so far, and we've only really met *methods* as functions that are associated with, well, \"objects\" that are associated with a particular data type.\n",
    "\n",
    "Don't worry about this for now. We'll define the term *object* a little more properly later in the course -- as we'll see there, in some sense everything is an *object* in *Python*. For the moment, it's perfectly fine -- and actually pretty much correct -- to just think of *file* as being another data type. \n",
    "\n",
    "So we we can have *objects* (files) that have that data type, and as such they can have methods associated with them."
   ]
  },
  {
   "cell_type": "markdown",
   "metadata": {
    "slideshow": {
     "slide_type": "skip"
    }
   },
   "source": [
    "The best way to understand how this basic way of reading and writing files works is by example (and the following ones are stolen shamelessly from Hans Fangohr's textbook)."
   ]
  },
  {
   "cell_type": "code",
   "execution_count": 138,
   "metadata": {
    "slideshow": {
     "slide_type": "fragment"
    }
   },
   "outputs": [
    {
     "name": "stdout",
     "output_type": "stream",
     "text": [
      "This is the first line. \n",
      "This is the second line.\n"
     ]
    }
   ],
   "source": [
    "# 1. Write a file\n",
    "out_file = open(\"test.txt\", \"w\")                 # \"w\" = open for writing\"\n",
    "out_file.write(\"This is the first line. \\n\" + \\\n",
    "               \"This is the second line.\")       # use \"write\" method - \n",
    "                                                 # \"\\n\" is line break (in file)\n",
    "                                                 #  +\" = concat\n",
    "                                                 # \"\\\" = command contd next line\n",
    "                                                 # (no comments after \"\\\")\n",
    "\n",
    "            \n",
    "out_file.close()                                 # closefile with \"close\" method\n",
    "\n",
    "\n",
    "# 2. Read a file\n",
    "in_file = open(\"test.txt\", \"r\")                  # \"r\" = \"open for reading\"\n",
    "text = in_file.read()                            # read file with \"read\" method \n",
    "                                                 # put into string \"text\"\n",
    "\n",
    "in_file.close()                                  # close file with \"close\" method\n",
    "\n",
    "\n",
    "# 3. Display data\n",
    "print text"
   ]
  },
  {
   "cell_type": "markdown",
   "metadata": {
    "slideshow": {
     "slide_type": "slide"
    }
   },
   "source": [
    "Things to note here:<br>\n",
    "\n",
    "* the *object* returned by *file.read()* is a *string*<br><br>\n",
    "\n",
    "* it's good practice to *close* and files that you've *opened*<br><br>\n",
    "\n",
    "* we can insert line breaks (and other special characters) by using the \"escape\" character \"\\\""
   ]
  },
  {
   "cell_type": "markdown",
   "metadata": {
    "slideshow": {
     "slide_type": "slide"
    }
   },
   "source": [
    "We can also use the same formatting statements we learned about for screen output for file-based I/O:"
   ]
  },
  {
   "cell_type": "code",
   "execution_count": 139,
   "metadata": {
    "slideshow": {
     "slide_type": "fragment"
    }
   },
   "outputs": [
    {
     "name": "stdout",
     "output_type": "stream",
     "text": [
      " 1 x 17 =   17\n",
      " 2 x 17 =   34\n",
      " 3 x 17 =   51\n",
      " 4 x 17 =   68\n",
      " 5 x 17 =   85\n",
      " 6 x 17 =  102\n",
      " 7 x 17 =  119\n",
      " 8 x 17 =  136\n",
      " 9 x 17 =  153\n",
      "10 x 17 =  170\n",
      "\n"
     ]
    }
   ],
   "source": [
    "f = open(\"table.txt\", \"w\")\n",
    "for i in range(1, 11):\n",
    "    f.write(\"%2d x 17 = %4d\\n\" % (i, i*17))\n",
    "f.close()\n",
    "#\n",
    "f = open(\"table.txt\", \"r\")\n",
    "text = f.read() \n",
    "print text"
   ]
  },
  {
   "cell_type": "markdown",
   "metadata": {
    "slideshow": {
     "slide_type": "slide"
    }
   },
   "source": [
    "## reading and writing *arrays*"
   ]
  },
  {
   "cell_type": "markdown",
   "metadata": {
    "slideshow": {
     "slide_type": "skip"
    }
   },
   "source": [
    "With the things we have learned so far, we can read and write just about any text-based input and output to and from a file. \n",
    "\n",
    "However, doing so can be pretty tedious: we always have to think pretty hard about formatting (when we do output) and carefully split strings into various bits of data (when we do input).\n",
    "\n",
    "This can get pretty annoying..."
   ]
  },
  {
   "cell_type": "markdown",
   "metadata": {
    "slideshow": {
     "slide_type": "skip"
    }
   },
   "source": [
    "What file and data formats do we usually want to work with?\n",
    "\n",
    "* file:\n",
    "    * one or more columns of numerical or string data\n",
    "    * possibly a few lines with header comments\n",
    "    * columns separated by space, tab, comma, ....\n",
    "\n",
    "* data:\n",
    "    * *numpy* *arrays*\n",
    "    * one per file column\n",
    "\n",
    "Wouldn't it be nice if there were some simple functions that make reading and writing this type of data easier for us?"
   ]
  },
  {
   "cell_type": "markdown",
   "metadata": {
    "slideshow": {
     "slide_type": "skip"
    }
   },
   "source": [
    "Well, there are..."
   ]
  },
  {
   "cell_type": "markdown",
   "metadata": {
    "slideshow": {
     "slide_type": "fragment"
    }
   },
   "source": [
    "#### *loadtxt* and *savetxt*\n",
    "\n",
    "*numpy* provides two functions for us that make reading and writing *arrays* to and from column-based files really really simple.\n",
    "\n",
    "These functions are *numpy.loadtxt()* and *numpy.savetxt()*."
   ]
  },
  {
   "cell_type": "markdown",
   "metadata": {
    "slideshow": {
     "slide_type": "skip"
    }
   },
   "source": [
    "Here is an example of how to use them:"
   ]
  },
  {
   "cell_type": "code",
   "execution_count": 140,
   "metadata": {
    "scrolled": true,
    "slideshow": {
     "slide_type": "slide"
    }
   },
   "outputs": [
    {
     "name": "stdout",
     "output_type": "stream",
     "text": [
      " x\n",
      "===\n",
      "0.0\n",
      "1.0\n",
      "2.0\n",
      "\n",
      "\n",
      "<type 'numpy.ndarray'>\n",
      "\n",
      " a\n",
      "===\n",
      "0.0\n",
      "1.0\n",
      "2.0\n",
      "\n",
      "the actual file content:\n",
      "========================\n",
      "0.000000000000000000e+00\n",
      "1.000000000000000000e+00\n",
      "2.000000000000000000e+00\n",
      "\n"
     ]
    }
   ],
   "source": [
    "import numpy as np\n",
    "x = np.arange(3.0)                    #create an array x\n",
    "\n",
    "print \" x\"                            #print x out for us\n",
    "print \"===\"\n",
    "for i in range(len(x)):\n",
    "    print x[i]\n",
    "print\n",
    "print\n",
    "    \n",
    "np.savetxt('test_save.txt', x)        #use savetxt to save x \n",
    "                                      #to file test_save.txt\n",
    "\n",
    "a = np.loadtxt('test_save.txt')       #use loadtxt to read the data\n",
    "                                      #from the file into the new\n",
    "                                      #vector a\n",
    "\n",
    "print type(a)                         #check the typea of a\n",
    "print\n",
    "print \" a\"                            #print a out for us\n",
    "print \"===\"\n",
    "for i in range(len(a)):\n",
    "    print a[i]\n",
    "print    \n",
    "\n",
    "print \"the actual file content:\"  \n",
    "print \"========================\"\n",
    "f = open('test_save.txt', 'r')\n",
    "print f.read()                        #inspect actual file contents"
   ]
  },
  {
   "cell_type": "markdown",
   "metadata": {
    "slideshow": {
     "slide_type": "skip"
    }
   },
   "source": [
    "So this is very nice. We dumped the array x into a text file, writing one element per line. We didn't have much control over the formatting, but that's a detail we can worry about later."
   ]
  },
  {
   "cell_type": "markdown",
   "metadata": {
    "slideshow": {
     "slide_type": "slide"
    }
   },
   "source": [
    "Now let's try the obvious way of reading and writing multiple 1-D arrays to a single file:"
   ]
  },
  {
   "cell_type": "code",
   "execution_count": 141,
   "metadata": {
    "slideshow": {
     "slide_type": "fragment"
    }
   },
   "outputs": [
    {
     "name": "stdout",
     "output_type": "stream",
     "text": [
      " x     y  \n",
      "=========\n",
      "0   0\n",
      "1   1\n",
      "2   4\n",
      "3   9\n",
      "4   16\n",
      "\n",
      "\n",
      "<type 'numpy.ndarray'> <type 'numpy.ndarray'>\n",
      "\n",
      " a     b  \n",
      "=========\n",
      "0   0\n",
      "1   1\n",
      "2   4\n",
      "3   9\n",
      "4   16\n",
      "\n",
      "the actual file content:\n",
      "========================\n",
      "   0    1    2    3    4\n",
      "   0    1    4    9   16\n",
      "\n"
     ]
    }
   ],
   "source": [
    "import numpy as np\n",
    "x = np.arange(5)                      #create an array x\n",
    "y = x**2                              #create an array y\n",
    "\n",
    "print \" x     y  \"                    #print x and y out for us\n",
    "print \"=========\"\n",
    "for i in range(len(x)):\n",
    "    print x[i],' ', y[i]\n",
    "print\n",
    "print\n",
    "    \n",
    "np.savetxt('test_save.txt', (x, y),\\\n",
    "           fmt = '%4i')               #use savetxt to save x and y to file \n",
    "                                      #we use the \"i\" formatting string\n",
    "                                      #since our variables are *ints* \n",
    "                                      #otherwise it will be exponential\n",
    "                                      #notation by default\n",
    "            \n",
    "a, b = np.loadtxt('test_save.txt',\\\n",
    "                  dtype=int)          #use loadtxt to read the data\n",
    "                                      #from the file into two new\n",
    "                                      #vectors called a and b\n",
    "                                      #specify type of vectors via *dtype*\n",
    "                                      #(default is *float*)\n",
    "\n",
    "print type(a), type(b)                #check the types of a and b\n",
    "print\n",
    "print \" a     b  \"                    #print a and b out for us\n",
    "print \"=========\"\n",
    "for i in range(len(a)):\n",
    "    print a[i],' ', b[i]\n",
    "print    \n",
    "    \n",
    "print \"the actual file content:\"  \n",
    "print \"========================\"\n",
    "f = open('test_save.txt', 'r')\n",
    "print f.read()                        #inspect actual file contents"
   ]
  },
  {
   "cell_type": "markdown",
   "metadata": {
    "slideshow": {
     "slide_type": "skip"
    }
   },
   "source": [
    "Hmmm, so the reading and writing *seemed* to go OK, but when we look at the actual file contents, we see that the two 1-D arrays were **not** written to a 2-D column file (one column per array). Instead, they were written to a 2-row file (one row per array).\n",
    "\n",
    "This is once again due to the fact that, when we pass something like \"(x, y)\" as an argument, we're passing something like a *list* of *lists*.\n",
    "\n",
    "(Actually, in this case, it's a *tuple* of *arrays* -- in general terms, what we're talking about here really is a sequence of sequences -- but list of lists is probably more intuitive.)\n",
    "\n",
    "What the function *savetxt* does is take a single list (sequence) and writes it to file, one element per line.\n",
    "\n",
    "If that list (sequence) contains other lists (sequences), then these are written into separate colunns.\n",
    "\n",
    "Viewed like this, the behaviour above makes perfect sense. \n",
    "\n",
    "Note also that *loadtxt* reads things in exactly the same way."
   ]
  },
  {
   "cell_type": "markdown",
   "metadata": {
    "slideshow": {
     "slide_type": "slide"
    }
   },
   "source": [
    "So how can we get *savetxt* and *loadtxt* deal with column-based I/O?\n",
    "\n",
    "Well, we basically have to transpose the dimensions of the multi-dimensional *tuples* were using.\n",
    "\n",
    "Luckily, there are convenient ways to do that:\n",
    "\n",
    "* writing with *savetxt*:<br><br>\n",
    "    * *numpy* provides a function *column_stack*, which stacks 1-D *arrays* into a suitable 2-D *array<br><br>\n",
    "    * so instead of passing \"(x, y)\" to *savetxt*, we pass \"np.column_stack((x,y))\"<br><br>\n",
    "\n",
    "* reading with *loadtxt*:<br><br>\n",
    "    * *loadtxt* has an optional *boolean* input parameter *unpack*<br><br>\n",
    "    * if this is set to *True*, things are read in colunn-based format automatically"
   ]
  },
  {
   "cell_type": "markdown",
   "metadata": {
    "slideshow": {
     "slide_type": "slide"
    }
   },
   "source": [
    "Let's see how this works by using it in our previous example:"
   ]
  },
  {
   "cell_type": "code",
   "execution_count": 142,
   "metadata": {
    "slideshow": {
     "slide_type": "fragment"
    }
   },
   "outputs": [
    {
     "name": "stdout",
     "output_type": "stream",
     "text": [
      " x     y  \n",
      "=========\n",
      "0   0\n",
      "1   1\n",
      "2   4\n",
      "3   9\n",
      "4   16\n",
      "\n",
      "\n",
      "<type 'numpy.ndarray'> <type 'numpy.ndarray'>\n",
      "\n",
      " a     b  \n",
      "=========\n",
      "0   0\n",
      "1   1\n",
      "2   4\n",
      "3   9\n",
      "4   16\n",
      "\n",
      "the actual file content:\n",
      "========================\n",
      "   0    0\n",
      "   1    1\n",
      "   2    4\n",
      "   3    9\n",
      "   4   16\n",
      "\n"
     ]
    }
   ],
   "source": [
    "import numpy as np\n",
    "x = np.arange(5)                      #create an array x\n",
    "y = x**2                              #create an array y\n",
    "\n",
    "print \" x     y  \"                    #print x and y out for us\n",
    "print \"=========\"\n",
    "for i in range(len(x)):\n",
    "    print x[i],' ', y[i]\n",
    "print\n",
    "print\n",
    "    \n",
    "np.savetxt('test_save.txt',\\\n",
    "           np.column_stack((x, y)),\\\n",
    "           fmt = '%4i')               #use savetxt to save x and y to file \n",
    "                                      #we use the \"i\" formatting string\n",
    "                                      #since our variables are *ints* \n",
    "                                      #otherwise it will be exponential\n",
    "                                      #notation by default\n",
    "            \n",
    "a, b = np.loadtxt('test_save.txt',\\\n",
    "                  unpack=True, \\\n",
    "                  dtype=int)          #use loadtxt to read the data\n",
    "                                      #from the file into two new\n",
    "                                      #vectors called a and b\n",
    "                                      #specify type of vectors via *dtype*\n",
    "                                      #(default is *float*)\n",
    "\n",
    "print type(a), type(b)                #check the types of a and b\n",
    "print\n",
    "print \" a     b  \"                    #print a and b out for us\n",
    "print \"=========\"\n",
    "for i in range(len(a)):\n",
    "    print a[i],' ', b[i]\n",
    "print    \n",
    "    \n",
    "print \"the actual file content:\"  \n",
    "print \"========================\"\n",
    "f = open('test_save.txt', 'r')\n",
    "print f.read()                        #inspect actual file contents"
   ]
  },
  {
   "cell_type": "markdown",
   "metadata": {
    "slideshow": {
     "slide_type": "skip"
    }
   },
   "source": [
    "Both *loadtxt* and *savetxt* are actually more flexible than our example might suggest.\n",
    "\n",
    "For example, they can be used to read and write files where the columns contain data of different types and files with header comments, different column delimiters."
   ]
  },
  {
   "cell_type": "markdown",
   "metadata": {
    "slideshow": {
     "slide_type": "skip"
    }
   },
   "source": [
    "##### Exercise\n",
    "\n",
    "Experiment with *savetxt* and *loadtxt*. The full specifications can be found here:\n",
    "\n",
    "http://docs.scipy.org/doc/numpy/reference/generated/numpy.savetxt.html\n",
    "\n",
    "http://docs.scipy.org/doc/numpy/reference/generated/numpy.loadtxt.html\n",
    "\n",
    "Here are some specific things to try (but there are loads more!):\n",
    "\n",
    "* Try writing to and reading from a 3 column file, where different columns are different data types (e.g. one *int*, one *float* and one *string*).\n",
    "\n",
    "* Try out different delimiters, e.g. produce csv (comma separated values) output. \n",
    "\n",
    "* Can you figure out how to generate output using tabs as delimiters?\n",
    "\n",
    "* Generate a 5 column file and then read in *only* column 3.\n",
    "\n",
    "* Skip rows 2 and 4 from an input file when reading it."
   ]
  },
  {
   "cell_type": "markdown",
   "metadata": {
    "slideshow": {
     "slide_type": "skip"
    }
   },
   "source": [
    "##### Exercise\n",
    "\n",
    "The UK government (and indeed most government and large organizations) collates a ton of interesting and useful data that is available for convenient download, usually in csv format. \n",
    "\n",
    "Grab the latest data set on smoking statistics for England here:\n",
    "\n",
    "https://data.gov.uk/dataset/statistics_on_smoking_england\n",
    "\n",
    "We will want to use this dagta to answer the question \"What is the amount of money spent on smoking-prevention prescriptions per smoking-related death over the last 30 years?\".\n",
    "\n",
    "First, familiarize yourself with the data set -- it comes in 3 csv files and a *Word* document explaining the format. Then, write a function that gathers the necessary data. Finally, write a program that calls this function and manipulates the data to create an array with the quantity you need (let's call it frac_spend) and saves frac_spend as a function of year in a 2-column text-based file.\n",
    "\n",
    "##### Exercise (advanced)\n",
    "\n",
    "Plot frac_spend vs year using *matplotlib* functions. We have not yet covered this properly, but take a look back at our discussion of the *matplotlib* package and/or take a look at the endless info on matplotlib online."
   ]
  },
  {
   "cell_type": "markdown",
   "metadata": {
    "slideshow": {
     "slide_type": "skip"
    }
   },
   "source": [
    "##### Exercise\n",
    "\n",
    "Continue work on your tic-tac-toe and/or Connect 4 program. Specifically, write the parts (functions?) that will read the user input and write the information the user needs to the screen."
   ]
  }
 ],
 "metadata": {
  "celltoolbar": "Slideshow",
  "kernelspec": {
   "display_name": "Python 2",
   "language": "python",
   "name": "python2"
  },
  "language_info": {
   "codemirror_mode": {
    "name": "ipython",
    "version": 2
   },
   "file_extension": ".py",
   "mimetype": "text/x-python",
   "name": "python",
   "nbconvert_exporter": "python",
   "pygments_lexer": "ipython2",
   "version": "2.7.13"
  },
  "latex_envs": {
   "bibliofile": "biblio.bib",
   "cite_by": "apalike",
   "current_citInitial": 1,
   "eqLabelWithNumbers": true,
   "eqNumInitial": 0
  }
 },
 "nbformat": 4,
 "nbformat_minor": 1
}
