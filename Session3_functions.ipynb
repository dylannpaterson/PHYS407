{
 "cells": [
  {
   "cell_type": "markdown",
   "metadata": {
    "slideshow": {
     "slide_type": "slide"
    }
   },
   "source": [
    "# Session 3:\n",
    "# functions"
   ]
  },
  {
   "cell_type": "markdown",
   "metadata": {
    "slideshow": {
     "slide_type": "slide"
    }
   },
   "source": [
    "## What are functions?\n",
    "\n",
    "In programming, a function is basically just a piece of code that carries out a well-defined specific task. \n",
    "\n",
    "In fact, we've already met some built-in python functions, such as len()"
   ]
  },
  {
   "cell_type": "code",
   "execution_count": 55,
   "metadata": {
    "collapsed": false,
    "slideshow": {
     "slide_type": "skip"
    }
   },
   "outputs": [
    {
     "data": {
      "text/plain": [
       "5"
      ]
     },
     "execution_count": 55,
     "metadata": {},
     "output_type": "execute_result"
    }
   ],
   "source": [
    "len('hello')"
   ]
  },
  {
   "cell_type": "code",
   "execution_count": 56,
   "metadata": {
    "collapsed": false,
    "slideshow": {
     "slide_type": "skip"
    }
   },
   "outputs": [
    {
     "data": {
      "text/plain": [
       "5"
      ]
     },
     "execution_count": 56,
     "metadata": {},
     "output_type": "execute_result"
    }
   ],
   "source": [
    "s = 'hello' #a string\n",
    "len(s)"
   ]
  },
  {
   "cell_type": "code",
   "execution_count": 57,
   "metadata": {
    "collapsed": false,
    "slideshow": {
     "slide_type": "fragment"
    }
   },
   "outputs": [
    {
     "data": {
      "text/plain": [
       "3"
      ]
     },
     "execution_count": 57,
     "metadata": {},
     "output_type": "execute_result"
    }
   ],
   "source": [
    "a = [1, 2, 3] #a list\n",
    "len(a)"
   ]
  },
  {
   "cell_type": "code",
   "execution_count": 58,
   "metadata": {
    "collapsed": false,
    "slideshow": {
     "slide_type": "skip"
    }
   },
   "outputs": [
    {
     "data": {
      "text/plain": [
       "3"
      ]
     },
     "execution_count": 58,
     "metadata": {},
     "output_type": "execute_result"
    }
   ],
   "source": [
    "a = (1, 2, 3) #a tuple\n",
    "len(a)"
   ]
  },
  {
   "cell_type": "markdown",
   "metadata": {
    "slideshow": {
     "slide_type": "slide"
    }
   },
   "source": [
    "The len() function nicely illustrates the properties and usefulness of functions:\n",
    "\n",
    "- we interact with functions via a simple interface\n",
    "    <br>\n",
    "    - syntax: \n",
    "        - function-name(parameter-1, parameter-2)\n",
    "    <br><br>\n",
    "    - the parameters pass information *into* the function\n",
    "    <br><br>\n",
    "    - the function processes this and returns the result    "
   ]
  },
  {
   "cell_type": "markdown",
   "metadata": {
    "slideshow": {
     "slide_type": "slide"
    }
   },
   "source": [
    "### Functions are useful because:\n",
    "\n",
    "- they allow us to break long, complex pieces of code/logic into smaller, manageable parts\n",
    "\n",
    "    - \"divide-and-conquer\""
   ]
  },
  {
   "cell_type": "markdown",
   "metadata": {
    "slideshow": {
     "slide_type": "fragment"
    }
   },
   "source": [
    "- they can be re-used (and not just in a single program)"
   ]
  },
  {
   "cell_type": "markdown",
   "metadata": {
    "slideshow": {
     "slide_type": "fragment"
    }
   },
   "source": [
    "- we don't have to know exactly *how* a function does what it does\n",
    "\n",
    "    - we *do* have to understand *what* it does\n",
    "\n",
    "    - we *do* have to understand the meaning of the parameters\n",
    "    \n",
    "    - we *do* have to understand the return value(s)"
   ]
  },
  {
   "cell_type": "markdown",
   "metadata": {
    "slideshow": {
     "slide_type": "fragment"
    }
   },
   "source": [
    "- they help us make our code more readable"
   ]
  },
  {
   "cell_type": "markdown",
   "metadata": {
    "slideshow": {
     "slide_type": "slide"
    }
   },
   "source": [
    "### Understanding functions: maths vs computing\n",
    "\n",
    "- the word \"function\" has different meanings in mathematics and programming\n",
    "\n",
    "    * in coding, it's just any named sequence of operations\n",
    "\n",
    "    * but we *can* code functions that *implement* mathematical functions\n",
    "        - e.g. abs() returns the absolute value of its parameter "
   ]
  },
  {
   "cell_type": "code",
   "execution_count": 59,
   "metadata": {
    "collapsed": false,
    "slideshow": {
     "slide_type": "fragment"
    }
   },
   "outputs": [
    {
     "data": {
      "text/plain": [
       "2"
      ]
     },
     "execution_count": 59,
     "metadata": {},
     "output_type": "execute_result"
    }
   ],
   "source": [
    "abs(-2)"
   ]
  },
  {
   "cell_type": "markdown",
   "metadata": {
    "slideshow": {
     "slide_type": "slide"
    }
   },
   "source": [
    "### Understanding functions: print vs returning values\n",
    "\n",
    "* note that functions generally *return* values, not (just) *print* them\n",
    "    \n",
    "* e.g. we can assign the result of a function to a variable"
   ]
  },
  {
   "cell_type": "code",
   "execution_count": 60,
   "metadata": {
    "collapsed": true,
    "slideshow": {
     "slide_type": "fragment"
    }
   },
   "outputs": [],
   "source": [
    "a = abs(-2)"
   ]
  },
  {
   "cell_type": "markdown",
   "metadata": {
    "slideshow": {
     "slide_type": "fragment"
    }
   },
   "source": [
    "* note that this statement did not print anything!\n",
    "   \n",
    "   - why does the *interactive* command \"abs(-2)\" print output?\n",
    "       - just a convenient feature of *interactive* python<br>\n",
    "       - quick check on the values associated with objects<br>\n",
    "       - works for *any* object (not just functions)<br>\n",
    "       - doesn't work in \"batch\" mode"
   ]
  },
  {
   "cell_type": "markdown",
   "metadata": {
    "slideshow": {
     "slide_type": "fragment"
    }
   },
   "source": [
    "   * in general, functions should be \"silent\"\n",
    "       - they should return values, not print them\n",
    "       - except for testing/debugging"
   ]
  },
  {
   "cell_type": "markdown",
   "metadata": {
    "slideshow": {
     "slide_type": "slide"
    }
   },
   "source": [
    "### Understanding functions: modifying input parameters\n",
    "\n",
    "* Most functions just **return** their result\n",
    "    * they do not modify their input parameter(s)<br><br>\n",
    "\n",
    "* However, some functions **can** modify their input parameters\n",
    "    * particularly relevant for **methods** (see below)\n",
    "    * we'll discuss this in more detail in a later session"
   ]
  },
  {
   "cell_type": "markdown",
   "metadata": {
    "slideshow": {
     "slide_type": "fragment"
    }
   },
   "source": [
    "* In general, it is good practice for functions and methods\n",
    "    * to cleanly distinguish between input and output parameters\n",
    "    * to rely only on its explicit input parameters (no \"global\" information)\n",
    "    * to leave input parameters unchanged\n",
    "    * ** avoid side effects!**"
   ]
  },
  {
   "cell_type": "markdown",
   "metadata": {
    "collapsed": true,
    "slideshow": {
     "slide_type": "slide"
    }
   },
   "source": [
    "## Built-In Functions\n",
    "\n",
    "Standard python has a set of basic (and not-so-basic) built-in functions that are always available. Here is a sub-set of particularly useful ones that we should be aware of:"
   ]
  },
  {
   "cell_type": "code",
   "execution_count": 61,
   "metadata": {
    "collapsed": true,
    "slideshow": {
     "slide_type": "skip"
    }
   },
   "outputs": [],
   "source": [
    "i = -2\n",
    "j = 2\n",
    "f = -2.6\n",
    "mylist = [1, 2, 3]"
   ]
  },
  {
   "cell_type": "code",
   "execution_count": null,
   "metadata": {
    "collapsed": true,
    "slideshow": {
     "slide_type": "fragment"
    }
   },
   "outputs": [],
   "source": [
    "abs(i) #returns the absolute value of its parameter\n",
    "float(i) #returns the floating point version of its parameter\n",
    "id(i) #returns the internal unique identifier associated with the input object\n",
    "int(f) #returns the integer version of its parameter\n",
    "max(mylist) #returns the largest item in a sequence\n",
    "min(mylist) #returns the smallest item in a sequence\n",
    "max(i,j) #returns the largest of two or more input parameters\n",
    "min(i,j) #returns the smallest of two or more input parameters\n",
    "print(i) #prints the input to screen; note that the parentheses are usually suppressed in python 2.7\n",
    "         #i.e. we often just write \"print i\"\n",
    "range(j) #generates a sequential list of j integers starting at 0\n",
    "         #more general syntax: range([start,]stop[,step]) -- see session 2\n",
    "round(f) #rounds to the nearest integer and returns this as a float"
   ]
  },
  {
   "cell_type": "markdown",
   "metadata": {
    "slideshow": {
     "slide_type": "skip"
    }
   },
   "source": [
    "##### Exercise\n",
    "\n",
    "Test whether these built-in functions work the way you expect. What happens when you call abs(), float(), int(), max() etc on a boolean? What happens if I run max() on a sequence containing different data types? Can we round() an integer? A boolean? What if I run int() on a sequence, perhaps even a string? What kind of data type does id() return?\n",
    "\n",
    "Basically, test all this stuff to destruction. The goal is to gain intuition about how these things actually work and respond. One of the key points to figure out is what produces actual *errors* (i.e. python actually produces an error message), what produces the expected output, and what produces *unexpected* output.\n",
    "\n",
    "The last of these is particularly important if we want to avoid serious and difficult-to-detect errors."
   ]
  },
  {
   "cell_type": "markdown",
   "metadata": {
    "slideshow": {
     "slide_type": "slide"
    }
   },
   "source": [
    "## Methods\n",
    "\n",
    "*Methods* are just functions that are specifically associated with particular data types."
   ]
  },
  {
   "cell_type": "markdown",
   "metadata": {
    "slideshow": {
     "slide_type": "skip"
    }
   },
   "source": [
    "To be more precise, they are part of the *definition* of those data types."
   ]
  },
  {
   "cell_type": "markdown",
   "metadata": {
    "slideshow": {
     "slide_type": "skip"
    }
   },
   "source": [
    "They are therefore available only for objects that have the appropriate type."
   ]
  },
  {
   "cell_type": "markdown",
   "metadata": {
    "slideshow": {
     "slide_type": "fragment"
    }
   },
   "source": [
    "Methods are called using a slightly different syntax than ordinary functions. "
   ]
  },
  {
   "cell_type": "markdown",
   "metadata": {
    "slideshow": {
     "slide_type": "skip"
    }
   },
   "source": [
    "### Methods: syntax\n",
    "\n",
    "If we have some object (called \"object\") of a data type that has an associated method (called \"method\") which  requires some input parameter (called \"par\"), we call the method via \n",
    "\n",
    "object.method(par)"
   ]
  },
  {
   "cell_type": "markdown",
   "metadata": {
    "slideshow": {
     "slide_type": "skip"
    }
   },
   "source": [
    "Note that if there are no parameters required by the method, we still need to provide the parentheses, viz\n",
    "\n",
    "object.method()"
   ]
  },
  {
   "cell_type": "markdown",
   "metadata": {
    "slideshow": {
     "slide_type": "skip"
    }
   },
   "source": [
    "Of the data types we've met so far, only the *floats* and the *sequences* (*lists*, *tuples* and *strings*) have interesting methods associated with them."
   ]
  },
  {
   "cell_type": "markdown",
   "metadata": {
    "slideshow": {
     "slide_type": "skip"
    }
   },
   "source": [
    "Let's take a look at these..."
   ]
  },
  {
   "cell_type": "markdown",
   "metadata": {
    "slideshow": {
     "slide_type": "fragment"
    }
   },
   "source": [
    "### Methods associated with floats\n",
    "\n",
    "There is only one method associated with floats that we care about for the moment -- \"is_integer\":"
   ]
  },
  {
   "cell_type": "code",
   "execution_count": 63,
   "metadata": {
    "collapsed": false,
    "slideshow": {
     "slide_type": "fragment"
    }
   },
   "outputs": [
    {
     "data": {
      "text/plain": [
       "False"
      ]
     },
     "execution_count": 63,
     "metadata": {},
     "output_type": "execute_result"
    }
   ],
   "source": [
    "f = 1.2\n",
    "f.is_integer()"
   ]
  },
  {
   "cell_type": "markdown",
   "metadata": {
    "slideshow": {
     "slide_type": "fragment"
    }
   },
   "source": [
    "This returns the boolean *True* if the float represents an integer, and *False* if it does not.\n",
    "\n",
    "The argument itself (the float) is not changed at all."
   ]
  },
  {
   "cell_type": "markdown",
   "metadata": {
    "slideshow": {
     "slide_type": "skip"
    }
   },
   "source": [
    "Any integer has an exact floating point representation (let's just accept this for the moment), so the test done by this function works unambiguously for any integer."
   ]
  },
  {
   "cell_type": "markdown",
   "metadata": {
    "slideshow": {
     "slide_type": "skip"
    }
   },
   "source": [
    "However, we still have to be aware of the usual limitations of computers. For example, consider the following code snippet:"
   ]
  },
  {
   "cell_type": "code",
   "execution_count": 64,
   "metadata": {
    "collapsed": false,
    "slideshow": {
     "slide_type": "skip"
    }
   },
   "outputs": [
    {
     "data": {
      "text/plain": [
       "True"
      ]
     },
     "execution_count": 64,
     "metadata": {},
     "output_type": "execute_result"
    }
   ],
   "source": [
    "f1 = 1.0\n",
    "f2 = 1.0e-32\n",
    "f = f1 + f2\n",
    "f.is_integer()"
   ]
  },
  {
   "cell_type": "markdown",
   "metadata": {
    "slideshow": {
     "slide_type": "skip"
    }
   },
   "source": [
    "Here, the \"problem\" is simply that difference between 1 and 1+1e-32 is too small to be represented, so the computer understands both of these to be 1."
   ]
  },
  {
   "cell_type": "markdown",
   "metadata": {
    "slideshow": {
     "slide_type": "slide"
    }
   },
   "source": [
    "### Methods associated with lists\n",
    "\n",
    "Here is a cheat-sheet of the most important methods associated with lists. \n",
    "\n",
    "** Methods that change the list itself are identified by (!) in the comment string.**"
   ]
  },
  {
   "cell_type": "code",
   "execution_count": null,
   "metadata": {
    "collapsed": true,
    "slideshow": {
     "slide_type": "fragment"
    }
   },
   "outputs": [],
   "source": [
    "l = [1, 2, 3]\n",
    "l2 = [5, 6, 7]\n",
    "s = 'h'\n",
    "\n",
    "l.append(4)    # (!) appends object to the end of the list\n",
    "l.extend(l2)   # (!) appends elements from another sequence to the end of the list\n",
    "l.count(2)     #     returns number of occurrences of input value in the list\n",
    "l.index(2)     #     find the input value in the list and \n",
    "               #     return the index of the first occurrence\n",
    "l.insert(2, s) # (!) insert input parameter 2 at the index given by parameter 1\n",
    "l.pop(2)       # (!) return the item at the index given by the input parameter and \n",
    "               #     remove it from the list\n",
    "l.remove(2)    # (!) remove the first occurrence of the input parameter in the list\n",
    "l.reverse()    # (!) reverse the list *in place*\n",
    "l.sort()       # (!) sort the list *in place*"
   ]
  },
  {
   "cell_type": "markdown",
   "metadata": {
    "collapsed": true,
    "slideshow": {
     "slide_type": "skip"
    }
   },
   "source": [
    "##### Exercise\n",
    "\n",
    "Try out all of these methods and make sure you know how they work. Don't forget to test them with list of different data types and in situations where perhaps the input parameters don't seem to make sense (e.g. what if something is meant to be an index, but you give it a Boolean or a float?). \n",
    "\n",
    "Why do we need the \"extend\" method at all? Why can't we just \"append\"? Try it and make sure you understand what happens -- and why!\n",
    "\n",
    "What happens when the sequence we append with the \"extend\" method isn't a list? What if it's a tuple or a string?\n",
    "\n",
    "What happens if the input value in the \"count\" or \"index\" or \"pop\" or \"remove\" methods isn't present in the list?\n",
    "\n",
    "What happens if we assign a \"self-changing\" method like \"l.sort()\" to a variable? Does this give an error? What type is the resulting variable?"
   ]
  },
  {
   "cell_type": "markdown",
   "metadata": {
    "slideshow": {
     "slide_type": "slide"
    }
   },
   "source": [
    "### Methods associated with tuples\n",
    "\n",
    "Since tuples are *immutable*, there can be no methods that modify the tuple itself.\n",
    "\n",
    "So only two of the list methods are available for tuples (the ones that don't alter the sequence)."
   ]
  },
  {
   "cell_type": "code",
   "execution_count": null,
   "metadata": {
    "collapsed": true,
    "slideshow": {
     "slide_type": "fragment"
    }
   },
   "outputs": [],
   "source": [
    "t = (1, 2, 3)\n",
    "\n",
    "t.count(2) # returns number of occurrences of the input value \n",
    "           # in the tuple\n",
    "t.index(2) # find the input value in the tuple and \n",
    "           # return the index of the first occurrence"
   ]
  },
  {
   "cell_type": "markdown",
   "metadata": {
    "slideshow": {
     "slide_type": "slide"
    }
   },
   "source": [
    "### Methods associated with strings\n",
    "\n",
    "Strings have a whole bunch of useful associated methods. Here is a quick cheat sheet of the most useful."
   ]
  },
  {
   "cell_type": "markdown",
   "metadata": {
    "slideshow": {
     "slide_type": "skip"
    }
   },
   "source": [
    "Note that there are actually more methods, and that some of the methods actually have additional optional parameters. The point here is not to try and memorize everything, but to note the existence of the basic methods. You can always look up the details when you actually need to use them.\n",
    "\n",
    "As before, methods that modify the input are highlighted with a (!) in the comment string."
   ]
  },
  {
   "cell_type": "code",
   "execution_count": null,
   "metadata": {
    "code_folding": [],
    "collapsed": true,
    "slideshow": {
     "slide_type": "fragment"
    }
   },
   "outputs": [],
   "source": [
    "s = 'Hello'\n",
    "s1 = 'e'\n",
    "s2 = 'u'\n",
    "\n",
    "s.capitalize()    # returns a copy of the string with the first letter \n",
    "                  # capitalized and the rest lowercased\n",
    "s.count(s1)       # returns the number of non-overlapping occurrences\n",
    "s.find(s1)        # returns the starting index of stest within s\n",
    "s.index(s1)       # like find method, but raises error if not found\n",
    "s.lower()         # returns a copy of the string all in lower case\n",
    "s.upper()         # returns a copy of the string all in upper case\n",
    "s.lstrip()        # returns a copy of the string with leading white spaces removed\n",
    "                  # can also be called with string input parameter to remove \n",
    "                  # other leading characters\n",
    "s.replace(s1, s2) # returns a copy of s in which all occurrences of s1 are replaced \n",
    "                  # with s2\n",
    "s.split()         # returns a list of the \"words\" in s that are separated by one \n",
    "                  # or more white spaces       "
   ]
  },
  {
   "cell_type": "markdown",
   "metadata": {
    "slideshow": {
     "slide_type": "skip"
    }
   },
   "source": [
    "##### Exercise\n",
    "\n",
    "As usual, test out all these different methods. Try to use and abuse them to find out their uses and limitations."
   ]
  },
  {
   "cell_type": "markdown",
   "metadata": {
    "slideshow": {
     "slide_type": "slide"
    }
   },
   "source": [
    "## User-Defined Functions"
   ]
  },
  {
   "cell_type": "markdown",
   "metadata": {
    "slideshow": {
     "slide_type": "skip"
    }
   },
   "source": [
    "Even though it's nice and convenient that there are so many built-in functions and methods available for us, the real power of functions comes from the fact that we can create our own!"
   ]
  },
  {
   "cell_type": "markdown",
   "metadata": {
    "slideshow": {
     "slide_type": "fragment"
    }
   },
   "source": [
    "### Defining and calling functions\n",
    "\n",
    "Defining new functions in python is easy:"
   ]
  },
  {
   "cell_type": "code",
   "execution_count": 66,
   "metadata": {
    "collapsed": true,
    "slideshow": {
     "slide_type": "fragment"
    }
   },
   "outputs": [],
   "source": [
    "def add_two(x):\n",
    "    \"\"\"\n",
    "    This function adds the int 2 to its argument\n",
    "    and returns the result.\n",
    "    \"\"\"\n",
    "    y = x + 2\n",
    "    print \"y inside add_two is\", y\n",
    "    return y"
   ]
  },
  {
   "cell_type": "markdown",
   "metadata": {
    "slideshow": {
     "slide_type": "skip"
    }
   },
   "source": [
    "* the \"def\" statement tells python we're defining a function<br>\n",
    "* the thing after \"ded\" is the name of the function<br>\n",
    "* the object(s) in parentheses are the (input) parameters<br>\n",
    "* the \"def\" statement finishes with a colon\n",
    "* the body of the function is indented\n",
    "* note the explanatory documentation string\n",
    "* \"return y\" means our functions returns the value of object y\n",
    "* the \"return\" statement ends the function"
   ]
  },
  {
   "cell_type": "markdown",
   "metadata": {
    "slideshow": {
     "slide_type": "slide"
    }
   },
   "source": [
    "Calling a newly defined function is also easy:"
   ]
  },
  {
   "cell_type": "code",
   "execution_count": 67,
   "metadata": {
    "collapsed": false,
    "slideshow": {
     "slide_type": "fragment"
    }
   },
   "outputs": [
    {
     "name": "stdout",
     "output_type": "stream",
     "text": [
      "y inside add_two is 4\n",
      "z2 is now 4\n",
      "\n"
     ]
    }
   ],
   "source": [
    "z1 = 2\n",
    "z2 = add_two(z1)\n",
    "print \"z2 is now\", z2\n",
    "print"
   ]
  },
  {
   "cell_type": "markdown",
   "metadata": {
    "slideshow": {
     "slide_type": "skip"
    }
   },
   "source": [
    "* the syntax is *exactly* the same as for built-in functions<br>\n",
    "* the function is called via its name<br>\n",
    "* the input parameter is provided in parentheses<br>\n",
    "* the return value can be immediately assigned to another variable"
   ]
  },
  {
   "cell_type": "markdown",
   "metadata": {
    "slideshow": {
     "slide_type": "skip"
    }
   },
   "source": [
    "The general syntax for defining a function is:"
   ]
  },
  {
   "cell_type": "code",
   "execution_count": null,
   "metadata": {
    "collapsed": true,
    "slideshow": {
     "slide_type": "skip"
    }
   },
   "outputs": [],
   "source": [
    "def my_function(arg1 , arg2 , ... , argn):\n",
    "\n",
    "    \"\"\" Optional docstring . \"\"\"\n",
    "\n",
    "    # Implementation of the function\n",
    "\n",
    "    return result  # optional\n",
    "\n",
    "\n",
    "# this is not part of the function\n",
    "some_command"
   ]
  },
  {
   "cell_type": "markdown",
   "metadata": {
    "slideshow": {
     "slide_type": "skip"
    }
   },
   "source": [
    "** Note that:**\n",
    "\n",
    "* we can have multiple input parameters<br>\n",
    "\n",
    "* the \"return\" is optional\n",
    "    * if there is no \"return\", the end of the function is marked by indentation alone<br>"
   ]
  },
  {
   "cell_type": "markdown",
   "metadata": {
    "slideshow": {
     "slide_type": "skip"
    }
   },
   "source": [
    "##### Exercise\n",
    "\n",
    "Write a function works out the n-th element of the Fibonacci series. The first two elements of the Fibonacci series are 1 and 1, and every other element is the sum of the two preceeding elements."
   ]
  },
  {
   "cell_type": "markdown",
   "metadata": {
    "slideshow": {
     "slide_type": "slide"
    }
   },
   "source": [
    "### Returning multiple values\n",
    "\n",
    "Strictly speaking, python functions can return only a single object.\n",
    "\n",
    "However, that object can be a *tuple*! \n",
    "\n",
    "So, in practice, we can return multiple objects as elements of a tuple:"
   ]
  },
  {
   "cell_type": "code",
   "execution_count": 68,
   "metadata": {
    "collapsed": false,
    "slideshow": {
     "slide_type": "fragment"
    }
   },
   "outputs": [
    {
     "name": "stdout",
     "output_type": "stream",
     "text": [
      "b = 2 and c = 4\n"
     ]
    }
   ],
   "source": [
    "def add_two_and_four(x):\n",
    "    y = x + 2\n",
    "    z = x + 4\n",
    "    return y, z\n",
    "a = 0\n",
    "b, c = add_two_and_four(a)\n",
    "print \"b =\", b, \"and c =\", c"
   ]
  },
  {
   "cell_type": "markdown",
   "metadata": {
    "slideshow": {
     "slide_type": "skip"
    }
   },
   "source": [
    "* Here \"y, z\" and \"b, c\" are both tuples<br>\n",
    "* But note that \"y\" and \"z\" and \"b\" and \"c\" themselves are all *ints*<br>"
   ]
  },
  {
   "cell_type": "markdown",
   "metadata": {
    "slideshow": {
     "slide_type": "skip"
    }
   },
   "source": [
    "If all this seems a bit weird, you can pretty much just think of \"return y, z\" as returning two separate objects."
   ]
  },
  {
   "cell_type": "markdown",
   "metadata": {
    "slideshow": {
     "slide_type": "skip"
    }
   },
   "source": [
    "The whole point of *tuples* is really to allow us to do things like that. However, it's worth keeping the *tuple* stuff in the back of your head. For example, we might (intentionally or accidentally) call our function as follows:"
   ]
  },
  {
   "cell_type": "code",
   "execution_count": 72,
   "metadata": {
    "collapsed": false,
    "slideshow": {
     "slide_type": "skip"
    }
   },
   "outputs": [
    {
     "name": "stdout",
     "output_type": "stream",
     "text": [
      "(2, 4)\n"
     ]
    },
    {
     "data": {
      "text/plain": [
       "tuple"
      ]
     },
     "execution_count": 72,
     "metadata": {},
     "output_type": "execute_result"
    }
   ],
   "source": [
    "t = add_two_and_four(a)\n",
    "print t\n",
    "type(t)"
   ]
  },
  {
   "cell_type": "markdown",
   "metadata": {
    "slideshow": {
     "slide_type": "skip"
    }
   },
   "source": [
    "And that could get pretty confusing if we don't understand what a *tuple* is..."
   ]
  },
  {
   "cell_type": "markdown",
   "metadata": {
    "slideshow": {
     "slide_type": "slide"
    }
   },
   "source": [
    "### Documentation Strings\n",
    "\n",
    "We've mentioned several times already that it's important to write code that's *readable*. \n",
    "\n",
    "* Code is read much more frequently than it is written!\n",
    "\n",
    "We also said that having written a function, we should be able to use it without having to worry about *how* it does what it does. \n",
    "\n",
    "* But we do have to know *what* it does!\n",
    "<br>\n",
    "\n",
    "In order to help us accomplish this, python provides not only *comments*, but also **documentation strings**"
   ]
  },
  {
   "cell_type": "markdown",
   "metadata": {
    "slideshow": {
     "slide_type": "skip"
    }
   },
   "source": [
    "Remember our generic example of how functions are defined:"
   ]
  },
  {
   "cell_type": "code",
   "execution_count": null,
   "metadata": {
    "collapsed": true,
    "slideshow": {
     "slide_type": "skip"
    }
   },
   "outputs": [],
   "source": [
    "def my_function(arg1 , arg2 , ... , argn):\n",
    "\n",
    "    \"\"\" Optional documentation string . \"\"\"\n",
    "\n",
    "    # Implementation of the function\n",
    "\n",
    "    return result  # optional\n",
    "\n",
    "\n",
    "# this is not part of the function\n",
    "some_command"
   ]
  },
  {
   "cell_type": "markdown",
   "metadata": {
    "slideshow": {
     "slide_type": "skip"
    }
   },
   "source": [
    "* the docstring is enclosed in \"\"\" and \"\"\"\n",
    "* it can extend over multiple lines\n",
    "* it should explain what the purpose of the function\n",
    "* depending on context, it may provide additional relevant info\n",
    "    * the code author\n",
    "    * the date when the function was written\n",
    "    * the date(s) when it was modified (and by whom)\n",
    "    * a brief explanation of how it works"
   ]
  },
  {
   "cell_type": "code",
   "execution_count": 73,
   "metadata": {
    "collapsed": true,
    "slideshow": {
     "slide_type": "fragment"
    }
   },
   "outputs": [],
   "source": [
    "def add_two(x):\n",
    "    \"\"\" \n",
    "    adds the float 2.0 to every input and \n",
    "    returns the result\n",
    "    \"\"\"\n",
    "    y = x + 2.0\n",
    "    return y\n"
   ]
  },
  {
   "cell_type": "markdown",
   "metadata": {
    "slideshow": {
     "slide_type": "fragment"
    }
   },
   "source": [
    "One of the cool things about docstrings is that, once we've written them, they are available automatically for any user via the help() function."
   ]
  },
  {
   "cell_type": "code",
   "execution_count": 74,
   "metadata": {
    "collapsed": false,
    "slideshow": {
     "slide_type": "fragment"
    }
   },
   "outputs": [
    {
     "name": "stdout",
     "output_type": "stream",
     "text": [
      "Help on function add_two in module __main__:\n",
      "\n",
      "add_two(x)\n",
      "    adds the float 2.0 to every input and \n",
      "    returns the result\n",
      "\n"
     ]
    }
   ],
   "source": [
    "help(add_two)"
   ]
  },
  {
   "cell_type": "markdown",
   "metadata": {
    "slideshow": {
     "slide_type": "skip"
    }
   },
   "source": [
    "##### Exercise\n",
    "\n",
    "Write a function that will replicate the list.count method. \n",
    "\n",
    "##### Exercise\n",
    "\n",
    "Write two versions of a function that replicates the list.append method. The first version should replicate the behaviour of the method exactly, i.e. it should modify the input list. The second version should return a *copy* of the input list with the extra item appended.\n",
    "\n",
    "##### Exercise (advanced)\n",
    "\n",
    "Write a function that will replicate the list.sort method. It is up to you if the sort happens \"in place\" or whether the function returns a sorted copy of the input list."
   ]
  },
  {
   "cell_type": "markdown",
   "metadata": {
    "slideshow": {
     "slide_type": "skip"
    }
   },
   "source": [
    "##### Exercise (important)\n",
    "\n",
    "Go back to your algorithm for tic-tac-toe and/or Connect Four. Sketch out how you can split the distinct parts of the algorithm into distinct functions and re-write your algorithm as \"pseudo-code\", i.e. write it out so it starts to look a bit like a python program that calls these functions (even though the functions don't yet exist). For example, your algorithm might have a function called \"test_for_win\" that checks if there is a winner after every move.\n",
    "\n",
    "##### Exercise (important)\n",
    "\n",
    "Write at least one function that will be useful for your tic-tac-toe and/or Connect Four program."
   ]
  }
 ],
 "metadata": {
  "kernelspec": {
   "display_name": "Python 2",
   "language": "python",
   "name": "python2"
  },
  "language_info": {
   "codemirror_mode": {
    "name": "ipython",
    "version": 3
   },
   "file_extension": ".py",
   "mimetype": "text/x-python",
   "name": "python",
   "nbconvert_exporter": "python",
   "pygments_lexer": "ipython3",
   "version": "3.6.3"
  },
  "latex_envs": {
   "bibliofile": "biblio.bib",
   "cite_by": "apalike",
   "current_citInitial": 1,
   "eqLabelWithNumbers": true,
   "eqNumInitial": 0
  }
 },
 "nbformat": 4,
 "nbformat_minor": 1
}
