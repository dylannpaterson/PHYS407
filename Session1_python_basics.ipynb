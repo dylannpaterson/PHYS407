{
 "cells": [
  {
   "cell_type": "markdown",
   "metadata": {
    "code_folding": [],
    "slideshow": {
     "slide_type": "slide"
    }
   },
   "source": [
    "# Session 1: \n",
    "# python basics"
   ]
  },
  {
   "cell_type": "markdown",
   "metadata": {
    "slideshow": {
     "slide_type": "slide"
    }
   },
   "source": [
    "## getting started with python\n",
    "\n",
    "OK, let's do some actual programming. It is a time-honored tradition that the first program you write when you learn a new computer langugage writes out \"Hello world\" to the screen.\n",
    "\n",
    "##### Exercise: Hello World\n",
    "\n",
    "Try typing the following command first into the spyder editor window (and then execute it) and then directly into the IPython console (and then execute it):"
   ]
  },
  {
   "cell_type": "code",
   "execution_count": 1,
   "metadata": {
    "slideshow": {
     "slide_type": "fragment"
    }
   },
   "outputs": [
    {
     "name": "stdout",
     "output_type": "stream",
     "text": [
      "Hello world\n"
     ]
    }
   ],
   "source": [
    "print(\"Hello world\")"
   ]
  },
  {
   "cell_type": "markdown",
   "metadata": {
    "slideshow": {
     "slide_type": "skip"
    }
   },
   "source": [
    "Congratulations -- you've just written your first Python computer program! \n",
    "\n",
    "By far the best way to learn the syntax of a programming language is to play with it and (ab)use it. Don't be afraid to to this: nothing you can type into a python console is going to physically fry the computer you're working on! (If you can, I'm impressed, and you really don't need to take this course...)\n",
    "\n",
    "So, is Python case-sensitive (i.e. could we have written \"Print\" instead of \"print\")? Can we use single quotes instead of double quotes inside the print statement? Do we need quotes at all? Can we have quotes inside the quotes (so they show up in the output when you run the print statement)? Is there a limit to the length of the string inside the print statement? Can we print out a number instead of a string? Can we have more than one command on a single line? Can we print out two separate strings with a single statement? A string and a number?\n",
    "\n",
    "Take this opportunity to find the answer to these (and other) questions by messing around. It's probably easiest to use the IPython console for this, since then you can just hit <enter> to execute each command."
   ]
  },
  {
   "cell_type": "markdown",
   "metadata": {
    "slideshow": {
     "slide_type": "slide"
    }
   },
   "source": [
    "##### Exercise: Python as a calculator"
   ]
  },
  {
   "cell_type": "markdown",
   "metadata": {
    "slideshow": {
     "slide_type": "skip"
    }
   },
   "source": [
    "Python also lends itself really nicely for use as a calculator, and this also shows us we can use mathematical symbols in python.\n",
    "\n",
    "Type in and execute the following expressions (\"programs\") "
   ]
  },
  {
   "cell_type": "code",
   "execution_count": 2,
   "metadata": {
    "slideshow": {
     "slide_type": "fragment"
    }
   },
   "outputs": [
    {
     "data": {
      "text/plain": [
       "4"
      ]
     },
     "execution_count": 2,
     "metadata": {},
     "output_type": "execute_result"
    }
   ],
   "source": [
    "2 + 2"
   ]
  },
  {
   "cell_type": "code",
   "execution_count": 3,
   "metadata": {
    "slideshow": {
     "slide_type": "skip"
    }
   },
   "outputs": [
    {
     "data": {
      "text/plain": [
       "10.7"
      ]
     },
     "execution_count": 3,
     "metadata": {},
     "output_type": "execute_result"
    }
   ],
   "source": [
    "18 - 7.3"
   ]
  },
  {
   "cell_type": "code",
   "execution_count": null,
   "metadata": {
    "collapsed": true,
    "slideshow": {
     "slide_type": "skip"
    }
   },
   "outputs": [],
   "source": [
    "5 * 27"
   ]
  },
  {
   "cell_type": "code",
   "execution_count": null,
   "metadata": {
    "collapsed": true,
    "slideshow": {
     "slide_type": "skip"
    }
   },
   "outputs": [],
   "source": [
    "8.0 / 5.0"
   ]
  },
  {
   "cell_type": "code",
   "execution_count": null,
   "metadata": {
    "collapsed": true,
    "slideshow": {
     "slide_type": "skip"
    }
   },
   "outputs": [],
   "source": [
    "8 / 5"
   ]
  },
  {
   "cell_type": "code",
   "execution_count": null,
   "metadata": {
    "collapsed": true,
    "slideshow": {
     "slide_type": "skip"
    }
   },
   "outputs": [],
   "source": [
    "2 ** 3"
   ]
  },
  {
   "cell_type": "code",
   "execution_count": null,
   "metadata": {
    "collapsed": true,
    "slideshow": {
     "slide_type": "skip"
    }
   },
   "outputs": [],
   "source": [
    "2 ** 3.1"
   ]
  },
  {
   "cell_type": "code",
   "execution_count": null,
   "metadata": {
    "collapsed": true,
    "slideshow": {
     "slide_type": "skip"
    }
   },
   "outputs": [],
   "source": [
    "2 ** -3"
   ]
  },
  {
   "cell_type": "code",
   "execution_count": null,
   "metadata": {
    "collapsed": true,
    "slideshow": {
     "slide_type": "skip"
    }
   },
   "outputs": [],
   "source": [
    "2 * -3"
   ]
  },
  {
   "cell_type": "code",
   "execution_count": null,
   "metadata": {
    "collapsed": true,
    "slideshow": {
     "slide_type": "skip"
    }
   },
   "outputs": [],
   "source": [
    "81 ** 0.5"
   ]
  },
  {
   "cell_type": "code",
   "execution_count": null,
   "metadata": {
    "collapsed": true,
    "slideshow": {
     "slide_type": "skip"
    }
   },
   "outputs": [],
   "source": [
    "80 ** 0.5"
   ]
  },
  {
   "cell_type": "code",
   "execution_count": null,
   "metadata": {
    "collapsed": true,
    "slideshow": {
     "slide_type": "skip"
    }
   },
   "outputs": [],
   "source": [
    "80 ** (1/2)"
   ]
  },
  {
   "cell_type": "code",
   "execution_count": null,
   "metadata": {
    "collapsed": true,
    "slideshow": {
     "slide_type": "skip"
    }
   },
   "outputs": [],
   "source": [
    "80 ** (1./2.)"
   ]
  },
  {
   "cell_type": "code",
   "execution_count": null,
   "metadata": {
    "collapsed": true,
    "slideshow": {
     "slide_type": "skip"
    }
   },
   "outputs": [],
   "source": [
    "8 / 5 + 1.0"
   ]
  },
  {
   "cell_type": "markdown",
   "metadata": {
    "slideshow": {
     "slide_type": "skip"
    }
   },
   "source": [
    "Most of the results are probably as expected, but pay close attention to the differences between expressions like \"8.0 / 5.0\" and \"8 / 5\" or \"80\\*\\*0.5\" and \"80\\*\\*(1/2)\". \n",
    "\n",
    "The reason for these differences is the Python -- like essentially all computer languages -- distinguishes between integers and real numbers (aka floating point numbers). This is perfectly sensible: integer arithmetic is different from real number arithmetic. Python is actually pretty \"generous\" in how it interprets our input -- basically, it only evaluates an expression via integer arithmetic if it is possible to do so and all of the numbers we have given it are, in fact, integers. Otherwise it assumes we want it to be evaluated in real number arithmetic.  \n",
    "\n",
    "So, for example, \"8 / 5\" is to be evaluated using integer arithmetic. Well, how many times does 5 go into 8? Once, so the answer is 1.\n",
    "\n",
    "By contrast, \"8.0 / 5.0\" is to be evaluated using real number arithmetic. So here we are asking \"what's 8 divided by 5\", to which the answer is 1.6.\n",
    "\n",
    "So what about \"2 ** -3\"?\n",
    "\n",
    "And what happens when we have multiple expressions in a single line of input? For example, what happens if we execute the following:"
   ]
  },
  {
   "cell_type": "code",
   "execution_count": 4,
   "metadata": {
    "slideshow": {
     "slide_type": "fragment"
    }
   },
   "outputs": [
    {
     "data": {
      "text/plain": [
       "2.0"
      ]
     },
     "execution_count": 4,
     "metadata": {},
     "output_type": "execute_result"
    }
   ],
   "source": [
    "8 / 5 + 1.0"
   ]
  },
  {
   "cell_type": "markdown",
   "metadata": {
    "slideshow": {
     "slide_type": "skip"
    }
   },
   "source": [
    "Does this make sense to you? Python basically just evaluates each expression in the appropriate order of precedence, and each time applies the basic rule \"is everything in here an integer?\".\n",
    "\n",
    "Now try developing some intuition for these ideas by testing them on more complex expressions."
   ]
  },
  {
   "cell_type": "markdown",
   "metadata": {
    "slideshow": {
     "slide_type": "fragment"
    }
   },
   "source": [
    "## Avoiding integer arithmetic pitfalls"
   ]
  },
  {
   "cell_type": "markdown",
   "metadata": {
    "slideshow": {
     "slide_type": "skip"
    }
   },
   "source": [
    "Perhaps it is already obvious to you, but the simple difference between integer and floating division can be the cause of really nasty and insidious errors in computer programs. Most commonly, we intend to write a floating expression, but accidentally write an integer one (since it's such a natural thing to do). The trouble is that this doesn't usually produce an error message, but just evaluates to the wrong (integer) number! And if we do further arithmetic on that number later on -- e.g. multiply it by a real number -- the final output of our program will be a real number. It just won't be the right one!\n",
    "\n",
    "This is really bad. Most importantly, since there is no error message, and the output from the code looks superficially OK, we may never spot the error. In that case, we are in danger of making incorrect claims and wrong decisions. And even if we do notice that our results are wrong, this is the sort of subtle error that can be really hard to track down inside a long piece of code.\n",
    "\n",
    "How can we avoid this? Simple: "
   ]
  },
  {
   "cell_type": "markdown",
   "metadata": {
    "slideshow": {
     "slide_type": "fragment"
    }
   },
   "source": [
    "##### Always write numbers as floats (with a decimal point), unless you explicitly need them to be used as integers."
   ]
  },
  {
   "cell_type": "markdown",
   "metadata": {
    "slideshow": {
     "slide_type": "skip"
    }
   },
   "source": [
    "We have also just learned an extremely important lesson:"
   ]
  },
  {
   "cell_type": "markdown",
   "metadata": {
    "slideshow": {
     "slide_type": "slide"
    }
   },
   "source": [
    "##### The worst piece of code runs successfully and produces plausible-looking garbage as output."
   ]
  },
  {
   "cell_type": "markdown",
   "metadata": {
    "slideshow": {
     "slide_type": "slide"
    }
   },
   "source": [
    "## Variables\n",
    "\n",
    "All computer languages share the basic concept of *variables*.\n",
    "\n",
    "Variables are crucial, because they allow us to use symbols in our programs, rather than just actual numbers or strings."
   ]
  },
  {
   "cell_type": "markdown",
   "metadata": {
    "slideshow": {
     "slide_type": "skip"
    }
   },
   "source": [
    "Without variables, we'd be limited to doing arithmetic and might as well use a calculator. With variables, we can write programs to do just about anything, including algebra and calculus.  "
   ]
  },
  {
   "cell_type": "markdown",
   "metadata": {
    "slideshow": {
     "slide_type": "fragment"
    }
   },
   "source": [
    "In Python, we define variables simply by assigning a value to them. For example, we can define the variable a just by typing"
   ]
  },
  {
   "cell_type": "code",
   "execution_count": 5,
   "metadata": {
    "collapsed": true,
    "slideshow": {
     "slide_type": "fragment"
    }
   },
   "outputs": [],
   "source": [
    "a = 10.0"
   ]
  },
  {
   "cell_type": "markdown",
   "metadata": {
    "slideshow": {
     "slide_type": "slide"
    }
   },
   "source": [
    "When we do this, we are telling the computer to set aside a particular chunk of its memory for holding a piece of data of the type we want and allow us to access that data via the symbol."
   ]
  },
  {
   "cell_type": "markdown",
   "metadata": {
    "slideshow": {
     "slide_type": "skip"
    }
   },
   "source": [
    "In this particular case, we are saying:\n",
    "\n",
    "    \"create the real number 10.0 and store it in a chunk of memory that we can access via the letter a\"."
   ]
  },
  {
   "cell_type": "markdown",
   "metadata": {
    "slideshow": {
     "slide_type": "slide"
    }
   },
   "source": [
    "We can ask the computer to tell us what's inside of that chunk just by typing the symbol and hitting < Enter \\>\\."
   ]
  },
  {
   "cell_type": "code",
   "execution_count": 6,
   "metadata": {
    "slideshow": {
     "slide_type": "fragment"
    }
   },
   "outputs": [
    {
     "data": {
      "text/plain": [
       "10.0"
      ]
     },
     "execution_count": 6,
     "metadata": {},
     "output_type": "execute_result"
    }
   ],
   "source": [
    "a"
   ]
  },
  {
   "cell_type": "markdown",
   "metadata": {
    "collapsed": true,
    "slideshow": {
     "slide_type": "fragment"
    }
   },
   "source": [
    "We can also use the print statement to make the output prettier and more informative:\n"
   ]
  },
  {
   "cell_type": "code",
   "execution_count": 7,
   "metadata": {
    "slideshow": {
     "slide_type": "fragment"
    }
   },
   "outputs": [
    {
     "name": "stdout",
     "output_type": "stream",
     "text": [
      "The variable a contains the value 10.0\n"
     ]
    }
   ],
   "source": [
    "print \"The variable a contains the value\", a"
   ]
  },
  {
   "cell_type": "markdown",
   "metadata": {
    "slideshow": {
     "slide_type": "skip"
    }
   },
   "source": [
    "Note that we used a comma to tell the computer that we are trying to print out *two* objects -- a string and a variable.\n",
    "\n",
    "If we want to know what *type* of data a particular variable refers to (we'll talk more about data types in a minute), we can use the built in function type()"
   ]
  },
  {
   "cell_type": "code",
   "execution_count": 8,
   "metadata": {
    "slideshow": {
     "slide_type": "skip"
    }
   },
   "outputs": [
    {
     "data": {
      "text/plain": [
       "float"
      ]
     },
     "execution_count": 8,
     "metadata": {},
     "output_type": "execute_result"
    }
   ],
   "source": [
    "type(a)"
   ]
  },
  {
   "cell_type": "markdown",
   "metadata": {
    "slideshow": {
     "slide_type": "skip"
    }
   },
   "source": [
    "Note that we used a comma to tell the computer that we are trying to print out *two* objects -- a string and a variable.\n",
    "\n",
    "If we want to know what *type* of data a particular variable refers to (we'll talk more about data types in a minute), we can use the built in function type() "
   ]
  },
  {
   "cell_type": "markdown",
   "metadata": {
    "slideshow": {
     "slide_type": "slide"
    }
   },
   "source": [
    "### Python commands are not algebraic statements\n",
    "\n",
    "One aspect of variables is often confusing when it is first encountered. In algebra, a statement like\n",
    "\n",
    "$a = a + 1$\n",
    "\n",
    "is obviously non-sensical. However, in Python (and just about any other programming language), this is a perfectly reasonable  command."
   ]
  },
  {
   "cell_type": "code",
   "execution_count": 1,
   "metadata": {
    "collapsed": true,
    "slideshow": {
     "slide_type": "fragment"
    }
   },
   "outputs": [],
   "source": [
    "a = 1.0"
   ]
  },
  {
   "cell_type": "code",
   "execution_count": 10,
   "metadata": {
    "collapsed": true,
    "slideshow": {
     "slide_type": "fragment"
    }
   },
   "outputs": [],
   "source": [
    "a = a + 1.0"
   ]
  },
  {
   "cell_type": "code",
   "execution_count": 11,
   "metadata": {
    "slideshow": {
     "slide_type": "fragment"
    }
   },
   "outputs": [
    {
     "name": "stdout",
     "output_type": "stream",
     "text": [
      "2.0\n"
     ]
    }
   ],
   "source": [
    "print a"
   ]
  },
  {
   "cell_type": "markdown",
   "metadata": {
    "slideshow": {
     "slide_type": "skip"
    }
   },
   "source": [
    "There is nothing mysterious about this. In Python, the \"=\" symbol is an operator that says \"assign the value on the right to the object on the left\". So we first evaluate the right hand side ($a + 1$ with $a = 1$ is $1+1=2$). Then we take the result of that evaluation and assign it to the thing on the right -- which might be one of the variables we used in the expression on the right. There is no ambiguity here, and once we've wrapped our head around it, it's really straightforward and makes a lot of sense."
   ]
  },
  {
   "cell_type": "markdown",
   "metadata": {
    "slideshow": {
     "slide_type": "skip"
    }
   },
   "source": [
    "##### Exercise: Playing with variables"
   ]
  },
  {
   "cell_type": "markdown",
   "metadata": {
    "slideshow": {
     "slide_type": "skip"
    }
   },
   "source": [
    "Let's play around with all this to see how this helps us and to get some intuition. Here are a few things to try and execute:"
   ]
  },
  {
   "cell_type": "code",
   "execution_count": null,
   "metadata": {
    "collapsed": true,
    "slideshow": {
     "slide_type": "skip"
    }
   },
   "outputs": [],
   "source": [
    "a = 10.0"
   ]
  },
  {
   "cell_type": "code",
   "execution_count": null,
   "metadata": {
    "collapsed": true,
    "slideshow": {
     "slide_type": "skip"
    }
   },
   "outputs": [],
   "source": [
    "b = 20.0"
   ]
  },
  {
   "cell_type": "code",
   "execution_count": null,
   "metadata": {
    "collapsed": true,
    "slideshow": {
     "slide_type": "skip"
    }
   },
   "outputs": [],
   "source": [
    "a"
   ]
  },
  {
   "cell_type": "code",
   "execution_count": null,
   "metadata": {
    "collapsed": true,
    "slideshow": {
     "slide_type": "skip"
    }
   },
   "outputs": [],
   "source": [
    "b"
   ]
  },
  {
   "cell_type": "code",
   "execution_count": null,
   "metadata": {
    "collapsed": true,
    "slideshow": {
     "slide_type": "skip"
    }
   },
   "outputs": [],
   "source": [
    "c = a + b"
   ]
  },
  {
   "cell_type": "code",
   "execution_count": null,
   "metadata": {
    "collapsed": true,
    "slideshow": {
     "slide_type": "skip"
    }
   },
   "outputs": [],
   "source": [
    "c"
   ]
  },
  {
   "cell_type": "code",
   "execution_count": null,
   "metadata": {
    "collapsed": true,
    "slideshow": {
     "slide_type": "skip"
    }
   },
   "outputs": [],
   "source": [
    "ab2 = (a + b) / 2.0"
   ]
  },
  {
   "cell_type": "code",
   "execution_count": null,
   "metadata": {
    "collapsed": true,
    "slideshow": {
     "slide_type": "skip"
    }
   },
   "outputs": [],
   "source": [
    "ab2"
   ]
  },
  {
   "cell_type": "code",
   "execution_count": null,
   "metadata": {
    "collapsed": true,
    "slideshow": {
     "slide_type": "skip"
    }
   },
   "outputs": [],
   "source": [
    "a = a + b + c"
   ]
  },
  {
   "cell_type": "code",
   "execution_count": null,
   "metadata": {
    "collapsed": true,
    "slideshow": {
     "slide_type": "skip"
    }
   },
   "outputs": [],
   "source": [
    "a"
   ]
  },
  {
   "cell_type": "code",
   "execution_count": null,
   "metadata": {
    "collapsed": true,
    "slideshow": {
     "slide_type": "skip"
    }
   },
   "outputs": [],
   "source": [
    "i = 1"
   ]
  },
  {
   "cell_type": "code",
   "execution_count": null,
   "metadata": {
    "collapsed": true,
    "slideshow": {
     "slide_type": "skip"
    }
   },
   "outputs": [],
   "source": [
    "f = 2.0"
   ]
  },
  {
   "cell_type": "code",
   "execution_count": null,
   "metadata": {
    "collapsed": true,
    "slideshow": {
     "slide_type": "skip"
    }
   },
   "outputs": [],
   "source": [
    "test = i/f"
   ]
  },
  {
   "cell_type": "code",
   "execution_count": null,
   "metadata": {
    "collapsed": true,
    "slideshow": {
     "slide_type": "skip"
    }
   },
   "outputs": [],
   "source": [
    "type(test)"
   ]
  },
  {
   "cell_type": "code",
   "execution_count": null,
   "metadata": {
    "collapsed": true,
    "slideshow": {
     "slide_type": "skip"
    }
   },
   "outputs": [],
   "source": [
    "test"
   ]
  },
  {
   "cell_type": "code",
   "execution_count": null,
   "metadata": {
    "collapsed": true,
    "slideshow": {
     "slide_type": "skip"
    }
   },
   "outputs": [],
   "source": [
    "j = 2"
   ]
  },
  {
   "cell_type": "code",
   "execution_count": null,
   "metadata": {
    "collapsed": true,
    "slideshow": {
     "slide_type": "skip"
    }
   },
   "outputs": [],
   "source": [
    "test2 = i/j"
   ]
  },
  {
   "cell_type": "code",
   "execution_count": null,
   "metadata": {
    "collapsed": true,
    "slideshow": {
     "slide_type": "skip"
    }
   },
   "outputs": [],
   "source": [
    "type(test2)"
   ]
  },
  {
   "cell_type": "code",
   "execution_count": null,
   "metadata": {
    "collapsed": true,
    "slideshow": {
     "slide_type": "skip"
    }
   },
   "outputs": [],
   "source": [
    "test2"
   ]
  },
  {
   "cell_type": "markdown",
   "metadata": {
    "slideshow": {
     "slide_type": "skip"
    }
   },
   "source": [
    "Note how the floating and integer rules are still exactly the same as before. Also, note that we can use numbers inside variable names. Can variable names actually *be* numbers? Can they start with numbers? Test this out."
   ]
  },
  {
   "cell_type": "markdown",
   "metadata": {
    "slideshow": {
     "slide_type": "skip"
    }
   },
   "source": [
    "##### Exercise: Solving a quadratic equation\n",
    "\n",
    "Let's try to do something that's getting useful. We're given the quadratic equation\n",
    "\n",
    "$ax^2 + bx + c = 0$\n",
    "\n",
    "with $a = 3.4$, $b = 18.3$ and $c = 14.5$. \n",
    "\n",
    "I'm hoping you all remember the algebraic solution to the quadratic equation, so implement this in Python and use it to solve the particular equation above."
   ]
  },
  {
   "cell_type": "code",
   "execution_count": null,
   "metadata": {
    "collapsed": true,
    "slideshow": {
     "slide_type": "skip"
    }
   },
   "outputs": [],
   "source": [
    "a = 3.4"
   ]
  },
  {
   "cell_type": "code",
   "execution_count": null,
   "metadata": {
    "collapsed": true,
    "slideshow": {
     "slide_type": "skip"
    }
   },
   "outputs": [],
   "source": [
    "b = 18.3"
   ]
  },
  {
   "cell_type": "code",
   "execution_count": null,
   "metadata": {
    "collapsed": true,
    "slideshow": {
     "slide_type": "skip"
    }
   },
   "outputs": [],
   "source": [
    "c = 14.5"
   ]
  },
  {
   "cell_type": "code",
   "execution_count": null,
   "metadata": {
    "collapsed": true,
    "slideshow": {
     "slide_type": "skip"
    }
   },
   "outputs": [],
   "source": [
    "x1 = (-b + (b**2.0 - 4.0 * a * c)**0.5) / (2.0 * a)"
   ]
  },
  {
   "cell_type": "code",
   "execution_count": null,
   "metadata": {
    "collapsed": true,
    "slideshow": {
     "slide_type": "skip"
    }
   },
   "outputs": [],
   "source": [
    "x2 = (-b - (b**2.0 - 4.0 * a * c)**0.5) / (2.0 * a)"
   ]
  },
  {
   "cell_type": "code",
   "execution_count": null,
   "metadata": {
    "collapsed": true,
    "slideshow": {
     "slide_type": "skip"
    }
   },
   "outputs": [],
   "source": [
    "print 'The two solutions are', x1, 'and', x2"
   ]
  },
  {
   "cell_type": "markdown",
   "metadata": {
    "slideshow": {
     "slide_type": "skip"
    }
   },
   "source": [
    "Now try the same thing, but with $c = 34.9$. What happens and why?"
   ]
  },
  {
   "cell_type": "markdown",
   "metadata": {
    "slideshow": {
     "slide_type": "skip"
    }
   },
   "source": [
    "## Coding style"
   ]
  },
  {
   "cell_type": "markdown",
   "metadata": {
    "slideshow": {
     "slide_type": "skip"
    }
   },
   "source": [
    "Python has a well-established standard coding style, called PEP8. The key insight behind this style is that **readability counts**: code is read much more often than it is written. Writing readable code is therefore a net time-saver, even if it occasionally requires slightly more effort. Similarly, a uniform style for all Python code means that it is much easier for any programmer to read and work with somebody else's code. (Actually, it can be hard enough to understand even your *own* code if you set it aside for a while!\n",
    "\n",
    "We will talk about what it means to write \"readable code\" in more detail later on in this course.\n",
    "\n",
    "For now, we'll just note that all code written for this course should follow the standard PEP8 style. This means the following:"
   ]
  },
  {
   "cell_type": "markdown",
   "metadata": {
    "slideshow": {
     "slide_type": "skip"
    }
   },
   "source": [
    "- Indentation: use 4 spaces\n",
    "- One space around \"=\" operator: \"c = 5\" and not \"c=5\"\n",
    "- Spaces around arithmetic operators can vary: \"x = 3\\*a + 4\\*b\" is OK, as is \"x = 3 \\* a + 4 \\* b\n",
    "- No space before and after parentheses: \"x = sin(x)\", not \"x = sin( x )\"\n",
    "- One space after a comma: \"a, b = 1, 2\", not \"a,b = 1,2\"\n",
    "- No whitespace at end of line\n",
    "- No whitespace in empty line\n",
    "- One or no empty line between statements within function\n",
    "- Two empty lines between functions\n",
    "- One import statement per line\n",
    "- Import first standard Python libraries, then third-party packages (e.g. numby, scipy, ...), then our own modules"
   ]
  },
  {
   "cell_type": "markdown",
   "metadata": {
    "slideshow": {
     "slide_type": "skip"
    }
   },
   "source": [
    "Don't worry about the last four points yet, since we haven't talked about functions and importing. However, please make a mental note that there are style conventions associated with these things."
   ]
  },
  {
   "cell_type": "markdown",
   "metadata": {
    "slideshow": {
     "slide_type": "slide"
    }
   },
   "source": [
    "##### Exercise: an algorithm for tic-tac-toe\n",
    "\n",
    "**Note:** I briefly introduced this exercise last time, but it is so useful and important that I'd like you to return to it now and spend the rest of this session working on it. Please take this exercise seriously. It is a really useful starting point for the first assignment -- Connect Four is basically just a slightly more advanced version of tic-tac-toe, so if you understand how to design a tic-tac-toe game, you should have no trouble designing a Connect Four game.\n",
    "\n",
    "Design and write down an algorithm that will allow two robots similar to those in our sorting exercise to play tic-tac-toe against each other. Obviously, the robots have no idea what tic-tac-toe is. But if both robots follow the instructions in your algorithm, the resulting game will be consistent with the rules of tic-tac-toe, and the robots will be able to decide which one of them won (or whether it was a draw). \n",
    "\n",
    "If you want to be ambitious, design an *optimal* tic-tac-toe algorithm, i.e. one that will ensure that no robot that follows your instructions will ever lose.\n",
    "\n",
    "Now that we have introduced the basics of python, also start thinking about how you would go about translating your algorithm into python."
   ]
  }
 ],
 "metadata": {
  "celltoolbar": "Slideshow",
  "kernelspec": {
   "display_name": "Python 2",
   "language": "python",
   "name": "python2"
  },
  "language_info": {
   "codemirror_mode": {
    "name": "ipython",
    "version": 2
   },
   "file_extension": ".py",
   "mimetype": "text/x-python",
   "name": "python",
   "nbconvert_exporter": "python",
   "pygments_lexer": "ipython2",
   "version": "2.7.13"
  },
  "latex_envs": {
   "bibliofile": "biblio.bib",
   "cite_by": "apalike",
   "current_citInitial": 1,
   "eqLabelWithNumbers": true,
   "eqNumInitial": 0
  }
 },
 "nbformat": 4,
 "nbformat_minor": 1
}
