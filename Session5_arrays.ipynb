{
 "cells": [
  {
   "cell_type": "markdown",
   "metadata": {
    "collapsed": true,
    "slideshow": {
     "slide_type": "slide"
    }
   },
   "source": [
    "# Session 5: arrays"
   ]
  },
  {
   "cell_type": "markdown",
   "metadata": {
    "slideshow": {
     "slide_type": "skip"
    }
   },
   "source": [
    "In today's session, we'll learn about the *array* data type that *numpy* automatically provides for us. For us physicists and astronomers, this is arguably the single most important data type python provides. We'll use this in virtually every significant programming or data analysis task we carry out with *Python*. So it's well worth taking the time to really understand *arrays*."
   ]
  },
  {
   "cell_type": "markdown",
   "metadata": {
    "slideshow": {
     "slide_type": "slide"
    }
   },
   "source": [
    "## arrays\n",
    "\n",
    "The data type *array* is defined in the *numpy* package.\n",
    "\n",
    "That means every time we import *numpy*, the *array* data type is automatically made available to us."
   ]
  },
  {
   "cell_type": "markdown",
   "metadata": {
    "slideshow": {
     "slide_type": "skip"
    }
   },
   "source": [
    "Formally, *numpy* arrays go by the name of *ndarrays* (for N-dimensional arrays), but we will use the term *array* as a short-hand and always use it to refer to *numpy* *ndarrays*. \n",
    "\n",
    "Be aware of this though, because there is, in fact, an actual *array* data type defined in the \"standard Python library\" -- so if you google \"Python arrays\", you might not find the information you're expecting (about *numpy* *ndarrays*). \n",
    "\n",
    "In this course, we're never going to use the Python standard library array data type, so this isn't going to cause any confusion. "
   ]
  },
  {
   "cell_type": "markdown",
   "metadata": {
    "slideshow": {
     "slide_type": "slide"
    }
   },
   "source": [
    "Fundamentally, *arrays* are very similar to *lists*:\n",
    "\n",
    "* *arrays* are *sequences*<br>\n",
    "\n",
    "* *arrays* are *mutable*<br>\n",
    "\n",
    "The main difference between *arrays* and *lists* is:\n",
    "\n",
    "* all elements of an *array* must have the same data type"
   ]
  },
  {
   "cell_type": "markdown",
   "metadata": {
    "slideshow": {
     "slide_type": "skip"
    }
   },
   "source": [
    "The restriction to a single data type makes *arrays* much more efficient to store than *lists*, since we don't have to store *type* information for each element.\n",
    "\n",
    "It also makes *arrays* more suitable for numerical calculations in which we often want to work on vectors and matrices that contain numbers (most commonly *floats*.)"
   ]
  },
  {
   "cell_type": "markdown",
   "metadata": {
    "slideshow": {
     "slide_type": "slide"
    }
   },
   "source": [
    "### vectors (1D arrays)\n",
    "\n",
    "The single most common and useful data structure for data analysis is a 1-dimensional *array*, i.e. a *vector*.\n",
    "\n",
    "*numpy* provides several ways of creating vectors:"
   ]
  },
  {
   "cell_type": "code",
   "execution_count": 25,
   "metadata": {
    "collapsed": false,
    "slideshow": {
     "slide_type": "fragment"
    }
   },
   "outputs": [
    {
     "name": "stdout",
     "output_type": "stream",
     "text": [
      "[ 0.  1.  2.  4.  5.]\n",
      "[ 0.  1.  2.  3.  4.]\n",
      "[ 0.  0.  0.  0.  0.]\n",
      "[ 1.  1.  1.  1.  1.]\n"
     ]
    }
   ],
   "source": [
    "import numpy as np\n",
    "\n",
    "#convert a list to an array\n",
    "a1 = np.array([0.0, 1.0, 2.0, 4.0, 5.0]) \n",
    "\n",
    "#use \"arange\" (array equivalent to \"range\" for lists)\n",
    "#if argument is given as float, output is float also\n",
    "a2 = np.arange(5.0)\n",
    "\n",
    "#creating an array filled with a given number of (float) zeros\n",
    "a3 = np.zeros(5)\n",
    "\n",
    "#creating an array filled with a given number of (float) ones\n",
    "a4 = np.ones(5)\n",
    "\n",
    "print a1\n",
    "print a2\n",
    "print a3\n",
    "print a4"
   ]
  },
  {
   "cell_type": "markdown",
   "metadata": {
    "slideshow": {
     "slide_type": "slide"
    }
   },
   "source": [
    "Since *arrays* are *mutable*, we can change individual elements once we've created an *array*"
   ]
  },
  {
   "cell_type": "code",
   "execution_count": 26,
   "metadata": {
    "collapsed": false,
    "slideshow": {
     "slide_type": "fragment"
    }
   },
   "outputs": [
    {
     "name": "stdout",
     "output_type": "stream",
     "text": [
      "[ 0.  1.  2.  3.  4.]\n",
      "[ 10.   1.   2.   3.   4.]\n"
     ]
    }
   ],
   "source": [
    "a2 = np.arange(5.0)\n",
    "print a2\n",
    "a2[0] = 10.0\n",
    "print a2"
   ]
  },
  {
   "cell_type": "markdown",
   "metadata": {
    "slideshow": {
     "slide_type": "skip"
    }
   },
   "source": [
    "As we've seen before, if you accidentally or intentionally try to do something that shouldn't be possible, *Python* tries to guess what you meant.\n",
    "\n",
    "This is both good and bad. On the one hand, it's convenient for quick-and-dirty interactive analysis -- more often than not, we can get away with sloppy style and still get the results we want.\n",
    "\n",
    "On the other hand, *Python's* tendency to guess means that a simple typo in a program -- e.g. typing \"5\" instead of \"5.0\" -- won't necessarily cause a formal error (the program will run), but the program might produce plausible looking, but incorrect output.\n",
    "\n",
    "Here is an example of *Python* trying to guess what you meant:"
   ]
  },
  {
   "cell_type": "code",
   "execution_count": 27,
   "metadata": {
    "collapsed": false,
    "slideshow": {
     "slide_type": "skip"
    }
   },
   "outputs": [
    {
     "name": "stdout",
     "output_type": "stream",
     "text": [
      "[0 1 2 3 4]\n",
      "[3 1 2 3 4]\n"
     ]
    }
   ],
   "source": [
    "a = np.arange(5) \n",
    "print a\n",
    "a[0] = 3.9\n",
    "print a"
   ]
  },
  {
   "cell_type": "markdown",
   "metadata": {
    "slideshow": {
     "slide_type": "skip"
    }
   },
   "source": [
    "Note how *Python* did not fall over with an error when we tried to assign a *float* to an *array* or *ints*!\n",
    "\n",
    "Instead, it implicitly and silently converted the *float* to an *int* -- and it didn't even round, but instead just truncated the *float*! This is probably not what we wanted. \n",
    "\n",
    "In fact, the most likely situation in which we might find the sort code snippet above that we **meant** to write:"
   ]
  },
  {
   "cell_type": "code",
   "execution_count": 28,
   "metadata": {
    "collapsed": false,
    "slideshow": {
     "slide_type": "skip"
    }
   },
   "outputs": [
    {
     "name": "stdout",
     "output_type": "stream",
     "text": [
      "[ 0.  1.  2.  3.  4.]\n",
      "[ 3.9  1.   2.   3.   4. ]\n"
     ]
    }
   ],
   "source": [
    "a = np.arange(5.0)\n",
    "print a\n",
    "a[0] = 3.9\n",
    "print a"
   ]
  },
  {
   "cell_type": "markdown",
   "metadata": {
    "slideshow": {
     "slide_type": "slide"
    }
   },
   "source": [
    "All the built in stuff that's available for sequences (and particularly *lists*) is available for *arrays* also. For example:"
   ]
  },
  {
   "cell_type": "code",
   "execution_count": 29,
   "metadata": {
    "collapsed": false,
    "slideshow": {
     "slide_type": "fragment"
    }
   },
   "outputs": [
    {
     "name": "stdout",
     "output_type": "stream",
     "text": [
      "the length function gives:  5\n",
      "the array is [ 5.  4.  3.  2.  1.]\n",
      "the sliced array is [ 5.  4.  3.]\n"
     ]
    }
   ],
   "source": [
    "a1 = np.arange(5.,0.,-1.)\n",
    "print 'the length function gives: ', len(a1)\n",
    "print 'the array is', a1\n",
    "a2 = a1[:3] #slicing\n",
    "print 'the sliced array is', a2"
   ]
  },
  {
   "cell_type": "markdown",
   "metadata": {
    "slideshow": {
     "slide_type": "slide"
    }
   },
   "source": [
    "Also, most of the *methods* we've already seen for *lists* are available for *arrays*, too, as well as some new ones. For example:"
   ]
  },
  {
   "cell_type": "code",
   "execution_count": 30,
   "metadata": {
    "collapsed": false,
    "slideshow": {
     "slide_type": "fragment"
    }
   },
   "outputs": [
    {
     "name": "stdout",
     "output_type": "stream",
     "text": [
      "the original array is [ 5.  4.  3.  2.  1.]\n",
      "the sorted array is [ 1.  2.  3.  4.  5.]\n"
     ]
    }
   ],
   "source": [
    "a1 = np.arange(5.,0.,-1.)\n",
    "print 'the original array is', a1\n",
    "a1.sort()\n",
    "print 'the sorted array is', a1"
   ]
  },
  {
   "cell_type": "markdown",
   "metadata": {
    "slideshow": {
     "slide_type": "skip"
    }
   },
   "source": [
    "There is little point covering all of the available *methods* here, but do familiarize yourself with them by taking a look here: \n",
    "\n",
    "http://docs.scipy.org/doc/numpy/reference/generated/numpy.arange.html"
   ]
  },
  {
   "cell_type": "markdown",
   "metadata": {
    "slideshow": {
     "slide_type": "slide"
    }
   },
   "source": [
    "In addition, we now have acccess to a whole bunch of *numpy* functions that can act efficiently on entire arrays at once. For example:"
   ]
  },
  {
   "cell_type": "code",
   "execution_count": 31,
   "metadata": {
    "collapsed": false,
    "slideshow": {
     "slide_type": "fragment"
    }
   },
   "outputs": [
    {
     "name": "stdout",
     "output_type": "stream",
     "text": [
      "[ 0.  1.  2.]\n",
      "[ 0.          0.84147098  0.90929743]\n"
     ]
    }
   ],
   "source": [
    "a1 = np.arange(3.0)\n",
    "print a1\n",
    "a1 = np.sin(a1)\n",
    "print a1"
   ]
  },
  {
   "cell_type": "markdown",
   "metadata": {
    "slideshow": {
     "slide_type": "skip"
    }
   },
   "source": [
    "##### Exercise\n",
    "\n",
    "Write a function that, given some array x and an integer parameter n, returns as output the polynomial f(x) = n*x^n. \n",
    "\n",
    "##### Exercise\n",
    "\n",
    "Write a program that creates 100 x-values space regularly between 0 and 20 and calls your function with this set of x-values for n = 0, 1, 2, 3, 4, 5. The program should then provide summary statistics (at least the mean and standard deviation) on the y-values in each case. It should also numerically integrate the functions. For the integration, you can rely on whatever functions you find in *numpy* or *scipy*."
   ]
  },
  {
   "cell_type": "markdown",
   "metadata": {
    "collapsed": true,
    "slideshow": {
     "slide_type": "slide"
    }
   },
   "source": [
    "### matrices (2D arrays)\n",
    "\n",
    "*Python* also makes it easy to create and use 2-dimensional arrays. These provide a natural way to store matrices or images, for example.\n",
    "\n",
    "We can create a matrix via the *zeros* and *ones* functions we already saw above:"
   ]
  },
  {
   "cell_type": "code",
   "execution_count": 32,
   "metadata": {
    "collapsed": false,
    "slideshow": {
     "slide_type": "fragment"
    }
   },
   "outputs": [
    {
     "name": "stdout",
     "output_type": "stream",
     "text": [
      "x0:\n",
      "[[ 0.  0.  0.  0.]\n",
      " [ 0.  0.  0.  0.]\n",
      " [ 0.  0.  0.  0.]]\n",
      "\n",
      "x1:\n",
      "[[ 1.  1.  1.  1.]\n",
      " [ 1.  1.  1.  1.]\n",
      " [ 1.  1.  1.  1.]]\n"
     ]
    }
   ],
   "source": [
    "#create a 3(rows) x 4(columns) matrix and fill with zeroes\n",
    "x0 = np.zeros((3, 4))\n",
    "\n",
    "#create a 3(rows) x 4(columns) matrix and fill with ones\n",
    "x1 = np.ones((3, 4))\n",
    "\n",
    "print 'x0:'\n",
    "print x0\n",
    "print\n",
    "print 'x1:'\n",
    "print x1"
   ]
  },
  {
   "cell_type": "markdown",
   "metadata": {
    "slideshow": {
     "slide_type": "skip"
    }
   },
   "source": [
    "We can also convert a *list* of *lists* (or a *list* of *tuples*) to an array:"
   ]
  },
  {
   "cell_type": "code",
   "execution_count": 33,
   "metadata": {
    "collapsed": false,
    "slideshow": {
     "slide_type": "skip"
    }
   },
   "outputs": [
    {
     "name": "stdout",
     "output_type": "stream",
     "text": [
      "xl:\n",
      "[[ 1  2  3  4]\n",
      " [ 5  6  7  8]\n",
      " [ 9 10 10 12]]\n",
      "\n",
      "xlt:\n",
      "[[ 1  2  3  4]\n",
      " [ 5  6  7  8]\n",
      " [ 9 10 10 12]]\n"
     ]
    }
   ],
   "source": [
    "#create a list of lists and convert to a 2-D array\n",
    "l2d = [[1, 2, 3, 4], [5, 6, 7, 8], [9, 10, 10, 12]]\n",
    "xl = np.array(l2d)\n",
    "\n",
    "#create a list of tuples and convert to a 2-D array\n",
    "lt2d = [(1, 2, 3, 4), (5, 6, 7, 8), (9, 10, 10, 12)]\n",
    "xlt = np.array(l2d)\n",
    "\n",
    "print 'xl:'\n",
    "print xl\n",
    "print\n",
    "print 'xlt:'\n",
    "print xlt"
   ]
  },
  {
   "cell_type": "markdown",
   "metadata": {
    "slideshow": {
     "slide_type": "skip"
    }
   },
   "source": [
    "We might wonder a bit about the second conversion, from a *list* of *tuples*: after all, *tuples* are supposed to be *immutable*, but *arrays* are *mutable*.\n",
    "\n",
    "Let's check that this actually remains the case here. First, let's try to modify an element in our array:"
   ]
  },
  {
   "cell_type": "code",
   "execution_count": 34,
   "metadata": {
    "collapsed": false,
    "slideshow": {
     "slide_type": "skip"
    }
   },
   "outputs": [
    {
     "name": "stdout",
     "output_type": "stream",
     "text": [
      "[[ 1  2  3  4]\n",
      " [ 5  6 20  8]\n",
      " [ 9 10 10 12]]\n"
     ]
    }
   ],
   "source": [
    "xlt[1][2] = 20\n",
    "print xlt"
   ]
  },
  {
   "cell_type": "markdown",
   "metadata": {
    "slideshow": {
     "slide_type": "skip"
    }
   },
   "source": [
    "Now, let's try to modify an element in the *list* of *tuples*:"
   ]
  },
  {
   "cell_type": "code",
   "execution_count": 35,
   "metadata": {
    "collapsed": false,
    "slideshow": {
     "slide_type": "skip"
    }
   },
   "outputs": [
    {
     "ename": "TypeError",
     "evalue": "'tuple' object does not support item assignment",
     "output_type": "error",
     "traceback": [
      "\u001b[0;31m---------------------------------------------------------------------------\u001b[0m",
      "\u001b[0;31mTypeError\u001b[0m                                 Traceback (most recent call last)",
      "\u001b[0;32m<ipython-input-35-0e50399efffa>\u001b[0m in \u001b[0;36m<module>\u001b[0;34m()\u001b[0m\n\u001b[0;32m----> 1\u001b[0;31m \u001b[0mlt2d\u001b[0m\u001b[0;34m[\u001b[0m\u001b[0;36m1\u001b[0m\u001b[0;34m]\u001b[0m\u001b[0;34m[\u001b[0m\u001b[0;36m2\u001b[0m\u001b[0;34m]\u001b[0m \u001b[0;34m=\u001b[0m \u001b[0;36m20\u001b[0m\u001b[0;34m\u001b[0m\u001b[0m\n\u001b[0m\u001b[1;32m      2\u001b[0m \u001b[0;32mprint\u001b[0m \u001b[0mlt2d\u001b[0m\u001b[0;34m\u001b[0m\u001b[0m\n",
      "\u001b[0;31mTypeError\u001b[0m: 'tuple' object does not support item assignment"
     ]
    }
   ],
   "source": [
    "lt2d[1][2] = 20\n",
    "print lt2d"
   ]
  },
  {
   "cell_type": "markdown",
   "metadata": {
    "slideshow": {
     "slide_type": "skip"
    }
   },
   "source": [
    "OK, so things do work as expected: we can modify elements of the array that was constructed from the *list* of *tuples*, but we can't modify elements in the *list* of *tuples* itself. \n",
    "\n",
    "So what happens is basically just that *Python* copies the values of the *tuples* into *array* elements, and these elements are thereafter modifiable. \n",
    "\n",
    "This is actually not all that surprising -- after all, we can also convert tuples into lists:"
   ]
  },
  {
   "cell_type": "code",
   "execution_count": 36,
   "metadata": {
    "collapsed": false,
    "slideshow": {
     "slide_type": "skip"
    }
   },
   "outputs": [
    {
     "name": "stdout",
     "output_type": "stream",
     "text": [
      "(1, 2, 3) <type 'tuple'>\n",
      "[1, 2, 3] <type 'list'>\n"
     ]
    }
   ],
   "source": [
    "t = (1, 2, 3)\n",
    "l = list(t)\n",
    "print t, type(t)\n",
    "print l, type(l)"
   ]
  },
  {
   "cell_type": "markdown",
   "metadata": {
    "slideshow": {
     "slide_type": "skip"
    }
   },
   "source": [
    "Let's get back to the 2-D arrays."
   ]
  },
  {
   "cell_type": "markdown",
   "metadata": {
    "slideshow": {
     "slide_type": "slide"
    }
   },
   "source": [
    "*Python* actually does a rather nice job of printing matrices for us:"
   ]
  },
  {
   "cell_type": "code",
   "execution_count": 37,
   "metadata": {
    "collapsed": false,
    "slideshow": {
     "slide_type": "fragment"
    }
   },
   "outputs": [
    {
     "name": "stdout",
     "output_type": "stream",
     "text": [
      "[[ 1  2  3  4]\n",
      " [ 5  6  7  8]\n",
      " [ 9 10 10 12]]\n"
     ]
    }
   ],
   "source": [
    "#create a list of lists and convert to a 2-D array\n",
    "l2d = [[1, 2, 3, 4], [5, 6, 7, 8], [9, 10, 10, 12]]\n",
    "xl = np.array(l2d)\n",
    "print xl"
   ]
  },
  {
   "cell_type": "markdown",
   "metadata": {
    "slideshow": {
     "slide_type": "fragment"
    }
   },
   "source": [
    "Note how *Python* printed this as an actual matrix, i.e. as a 2-D object with rows and columns."
   ]
  },
  {
   "cell_type": "markdown",
   "metadata": {
    "slideshow": {
     "slide_type": "slide"
    }
   },
   "source": [
    "Similarly, when we call *zeros* or *ones*, we specify the dimensions of the array as<br>\n",
    "\"(rows, columns)\":"
   ]
  },
  {
   "cell_type": "code",
   "execution_count": 38,
   "metadata": {
    "collapsed": false,
    "slideshow": {
     "slide_type": "fragment"
    }
   },
   "outputs": [
    {
     "name": "stdout",
     "output_type": "stream",
     "text": [
      "[[ 0.  0.  0.  0.]\n",
      " [ 0.  0.  0.  0.]]\n"
     ]
    }
   ],
   "source": [
    "a = np.zeros((2,4))\n",
    "print a"
   ]
  },
  {
   "cell_type": "markdown",
   "metadata": {
    "slideshow": {
     "slide_type": "fragment"
    }
   },
   "source": [
    "The dimensionality -- or *shape* -- of any array can be queried via the *shape* \"attribute\":"
   ]
  },
  {
   "cell_type": "code",
   "execution_count": 39,
   "metadata": {
    "collapsed": false,
    "slideshow": {
     "slide_type": "fragment"
    }
   },
   "outputs": [
    {
     "data": {
      "text/plain": [
       "(2, 4)"
      ]
     },
     "execution_count": 39,
     "metadata": {},
     "output_type": "execute_result"
    }
   ],
   "source": [
    "a.shape"
   ]
  },
  {
   "cell_type": "markdown",
   "metadata": {
    "slideshow": {
     "slide_type": "fragment"
    }
   },
   "source": [
    "This shape is a *tuple*, and the notation for 2-D arrays is generally \"first rows, then columns\"."
   ]
  },
  {
   "cell_type": "markdown",
   "metadata": {
    "slideshow": {
     "slide_type": "skip"
    }
   },
   "source": [
    "So the shape here tells us that the object \"a\" contains 2 rows and 4 columnns, consistent with the way *Python* printed the array."
   ]
  },
  {
   "cell_type": "markdown",
   "metadata": {
    "slideshow": {
     "slide_type": "skip"
    }
   },
   "source": [
    "But what the hell is an \"attribute\"?"
   ]
  },
  {
   "cell_type": "markdown",
   "metadata": {
    "slideshow": {
     "slide_type": "skip"
    }
   },
   "source": [
    "##### attributes\n",
    "\n",
    "As we can tell from the notation, *attributes* are similar to *methods*: they are things that are automatically defined for a given data type. \n",
    "\n",
    "But while *Methods* are *functions* that are defined for each object belong to a given data type, *attributes* are specific pieces of information about the object in question. Thus, unlike *methods*, *attributes* don't **do** anything.\n",
    "\n",
    "The *shape* of an array is one such *attribute* for *ndarrays*; another would be the total *size* (i.e. the number of elements it contains):"
   ]
  },
  {
   "cell_type": "code",
   "execution_count": 40,
   "metadata": {
    "collapsed": false,
    "slideshow": {
     "slide_type": "skip"
    }
   },
   "outputs": [
    {
     "data": {
      "text/plain": [
       "8"
      ]
     },
     "execution_count": 40,
     "metadata": {},
     "output_type": "execute_result"
    }
   ],
   "source": [
    "a.size"
   ]
  },
  {
   "cell_type": "markdown",
   "metadata": {
    "slideshow": {
     "slide_type": "skip"
    }
   },
   "source": [
    "The syntax for *attributes* is exactly the same as for *methods*, except that we don't need the parentheses \"()\". If you want to know what *attributes* are available for *arrays* (or other data types), check the relevant *Python* documention, for example\n",
    "\n",
    "http://docs.scipy.org/doc/numpy/reference/arrays.ndarray.html\n",
    "\n",
    "Again, my advice here is not to try to memorize all of the available *function and *methods* and *attributes* -- just familiarize yourself a bit with them, to get a feel for what's available. Then, when you actually try to solve a programming task, know where to check whether and how a suitable thing is available and how to use it. \n",
    "\n",
    "Eventually, the things you find you use a lot will become second nature, and you won't have to look them up any more. And the things you don't use all that much -- well, looking those up when you do need them seems like a sensible strategy..."
   ]
  },
  {
   "cell_type": "markdown",
   "metadata": {
    "slideshow": {
     "slide_type": "skip"
    }
   },
   "source": [
    "##### row vectors and column vectors\n",
    "\n",
    "If (or when) you've covered matrices in your mathematics course, you'll know that, mathematically, there is (sort of) a difference between a row vector and a column vector. For example, when we represent a dot product as a matrix multiplication, we write one of the vectors as a row vector, and the other as a column vector.\n",
    "\n",
    "This is not a mathematics, course, however, so we're not going to delve into a lot of detail here. However, since part of the point of this section on 2-D *arrays* is to highlight that *Python* can be used as a nice way of doing numerical work with matrices, it's worth just also pointing out that this extends even to the distinction between row and column vectors. \n",
    "\n",
    "Specifically, *Python* allows us to have arrays that are formally 2-dimensional, but for which one or the other dimension is 1. This then opens up the possibility of distinguishing between row and column vectors.\n",
    "\n",
    "For example, suppose we have created the simple 1-D vector x1d:"
   ]
  },
  {
   "cell_type": "code",
   "execution_count": 41,
   "metadata": {
    "collapsed": false,
    "slideshow": {
     "slide_type": "skip"
    }
   },
   "outputs": [
    {
     "name": "stdout",
     "output_type": "stream",
     "text": [
      "[1, 2, 3]\n"
     ]
    }
   ],
   "source": [
    "x1d = [1, 2, 3]\n",
    "print x1d"
   ]
  },
  {
   "cell_type": "markdown",
   "metadata": {
    "slideshow": {
     "slide_type": "skip"
    }
   },
   "source": [
    "We can now create a formally 2-dimensional version of this which contains 1 row and 3 columns by using the *numpy* *reshape* function:"
   ]
  },
  {
   "cell_type": "code",
   "execution_count": 42,
   "metadata": {
    "collapsed": false,
    "slideshow": {
     "slide_type": "skip"
    }
   },
   "outputs": [
    {
     "name": "stdout",
     "output_type": "stream",
     "text": [
      "[[1 2 3]]\n"
     ]
    }
   ],
   "source": [
    "x2d_row = np.reshape(x1d, (1, 3))\n",
    "print x2d_row"
   ]
  },
  {
   "cell_type": "markdown",
   "metadata": {
    "slideshow": {
     "slide_type": "skip"
    }
   },
   "source": [
    "Note how this has **two** square brackets, signalling that this is a 2-D array (it's just that one of the dimensions is empty).\n",
    "\n",
    "Now, here it comes: we can also make a **column vector** from x1d, just by switching the dimensions in *reshape*:"
   ]
  },
  {
   "cell_type": "code",
   "execution_count": 43,
   "metadata": {
    "collapsed": false,
    "slideshow": {
     "slide_type": "skip"
    }
   },
   "outputs": [
    {
     "name": "stdout",
     "output_type": "stream",
     "text": [
      "[[1]\n",
      " [2]\n",
      " [3]]\n"
     ]
    }
   ],
   "source": [
    "x2d_col = np.reshape(x1d, (3, 1))\n",
    "print x2d_col"
   ]
  },
  {
   "cell_type": "markdown",
   "metadata": {
    "slideshow": {
     "slide_type": "skip"
    }
   },
   "source": [
    "Note how this is even nicely printed as a column vector for us!\n",
    "\n",
    "You all probably hate me by now -- all of this stuff can get awfully confusing! Here is the thing: in this course, we're probably not going to do all that much work with 2-D and higher-dimensional *arrays*. And, in fact, for most of our data analysis tasks -- which is what we'll be using *Python* for later in the course -- 1-D *arrays* are all that we need most of the time. \n",
    "\n",
    "Nevertheless, it's really useful to be at least aware of *Python's* capabilities in this respect. There may come a time when you solve a numerical linear algebra problem using matrices, for example. Knowing *Python* and knowing that *Python* has a ton of built-in support for this sort of work will hopefully make it much less scary to tackle such a problem in future."
   ]
  },
  {
   "cell_type": "markdown",
   "metadata": {
    "slideshow": {
     "slide_type": "slide"
    }
   },
   "source": [
    "Let's see just one quick example of how convenient *Python* makes computations with matrices."
   ]
  },
  {
   "cell_type": "markdown",
   "metadata": {
    "slideshow": {
     "slide_type": "skip"
    }
   },
   "source": [
    "The following example is stolen directly from Hans Fangohr's excellent *Python* textbook."
   ]
  },
  {
   "cell_type": "code",
   "execution_count": 44,
   "metadata": {
    "collapsed": false,
    "slideshow": {
     "slide_type": "fragment"
    }
   },
   "outputs": [
    {
     "name": "stdout",
     "output_type": "stream",
     "text": [
      "A:\n",
      "[[ 0.99227312  0.77847828  0.75847686  0.50186218  0.18701308]\n",
      " [ 0.89209548  0.94526067  0.4210317   0.21152592  0.48981118]\n",
      " [ 0.86466101  0.40316567  0.29596753  0.47454821  0.848287  ]\n",
      " [ 0.35991876  0.72582496  0.34127081  0.29892495  0.13684236]\n",
      " [ 0.18899314  0.43368449  0.20926117  0.93747874  0.46223143]]\n",
      "\n",
      "x:\n",
      "[ 0.48692048  0.57502107  0.84006376  0.20412152  0.08673825]\n",
      "\n",
      "b:\n",
      "[ 1.68663051  1.4172802   1.07192595  0.95219218  0.74864781]\n",
      "\n",
      "x2:\n",
      "[ 0.48692048  0.57502107  0.84006376  0.20412152  0.08673825]\n"
     ]
    }
   ],
   "source": [
    "import numpy as np\n",
    "from numpy import random\n",
    "A = np.random.rand(5, 5)    # generates a random 5 by 5 matrix\n",
    "x = np.random.rand(5)       # generates a 5 - element vector\n",
    "b = np.dot(A, x)            # multiply matrix A with vector x\n",
    "\n",
    "print 'A:'\n",
    "print A\n",
    "print\n",
    "print 'x:'\n",
    "print x\n",
    "print\n",
    "print 'b:'\n",
    "print b                     # the result of the matrix multiplication\n",
    "\n",
    "from numpy import linalg as LA\n",
    "x2 = LA.solve(A, b)         # solve the matrix equation Ax = b for x\n",
    "\n",
    "print\n",
    "print 'x2:'\n",
    "print x2"
   ]
  },
  {
   "cell_type": "markdown",
   "metadata": {
    "slideshow": {
     "slide_type": "skip"
    }
   },
   "source": [
    "We will not introduce any more matrix computations for now. Just be aware that *numpy* provides a host of powerful and convenient tools for you, should you need them."
   ]
  },
  {
   "cell_type": "markdown",
   "metadata": {
    "slideshow": {
     "slide_type": "slide"
    }
   },
   "source": [
    "#### 2-D arrays as lists of lists:\n",
    "#### extracting elements and sub-matrices\n",
    "\n",
    "Something we will often want to do is extract specific parts of a matrix. \n",
    "\n",
    "The most obvious is that we might want to extract a particular element:"
   ]
  },
  {
   "cell_type": "code",
   "execution_count": 45,
   "metadata": {
    "collapsed": false,
    "slideshow": {
     "slide_type": "fragment"
    }
   },
   "outputs": [
    {
     "name": "stdout",
     "output_type": "stream",
     "text": [
      "[[ 1  2  3  4]\n",
      " [ 5  6  7  8]\n",
      " [ 9 10 10 12]]\n",
      "top_left =  1\n",
      "bottom_right =  12\n",
      "element in row 0, col 2 = 3\n",
      "element in row 1, col 3 = 8\n"
     ]
    }
   ],
   "source": [
    "l2d = [[1, 2, 3, 4], [5, 6, 7, 8], [9, 10, 10, 12]]\n",
    "xl = np.array(l2d)\n",
    "print xl\n",
    "\n",
    "top_left = xl[0][0]\n",
    "print 'top_left = ', top_left\n",
    "bottom_right = xl[2][3]\n",
    "print 'bottom_right = ', bottom_right\n",
    "zero_two = xl[0][2]\n",
    "print 'element in row 0, col 2 =', zero_two\n",
    "one_three = xl[1][3]\n",
    "print 'element in row 1, col 3 =', one_three"
   ]
  },
  {
   "cell_type": "markdown",
   "metadata": {
    "slideshow": {
     "slide_type": "slide"
    }
   },
   "source": [
    "We might also want to extract a particular sub-matrix, say the 2x2 matrix in the top left.\n",
    "\n",
    "Here is a first attempt at this:"
   ]
  },
  {
   "cell_type": "code",
   "execution_count": 46,
   "metadata": {
    "collapsed": false,
    "slideshow": {
     "slide_type": "fragment"
    }
   },
   "outputs": [
    {
     "name": "stdout",
     "output_type": "stream",
     "text": [
      "[[1 2 3 4]\n",
      " [5 6 7 8]]\n",
      "\n",
      "This is not our 2x2 matrix!\n"
     ]
    }
   ],
   "source": [
    "two_by_two = xl[0:2][0:2]\n",
    "print two_by_two\n",
    "print\n",
    "print 'This is not our 2x2 matrix!'"
   ]
  },
  {
   "cell_type": "markdown",
   "metadata": {
    "slideshow": {
     "slide_type": "fragment"
    }
   },
   "source": [
    "**What happened?**"
   ]
  },
  {
   "cell_type": "markdown",
   "metadata": {
    "slideshow": {
     "slide_type": "slide"
    }
   },
   "source": [
    "In order to understand this behaviour, we just have to know and remember a few key points:"
   ]
  },
  {
   "cell_type": "markdown",
   "metadata": {
    "slideshow": {
     "slide_type": "fragment"
    }
   },
   "source": [
    "* 2-D *arrays* are fundamentally *lists* of *lists*"
   ]
  },
  {
   "cell_type": "markdown",
   "metadata": {
    "slideshow": {
     "slide_type": "fragment"
    }
   },
   "source": [
    "* each element in the outer list stores (corresponds to) a single row"
   ]
  },
  {
   "cell_type": "markdown",
   "metadata": {
    "slideshow": {
     "slide_type": "fragment"
    }
   },
   "source": [
    "* there is no equivalent element in the array that holds a single column"
   ]
  },
  {
   "cell_type": "markdown",
   "metadata": {
    "slideshow": {
     "slide_type": "fragment"
    }
   },
   "source": [
    "* expressions line \"print array[0:2][0:2]\" are evaluated sequentually<br><br>\n",
    "    * array[0:2] refers to the first two rows of \"array\"\n",
    "        * this is still a 2-D *array*!<br><br>\n",
    "    * array[0:2][0:2] refers to the first two rows of \"array[0:2]\"\n",
    "        * this is the **same** two rows!"
   ]
  },
  {
   "cell_type": "markdown",
   "metadata": {
    "slideshow": {
     "slide_type": "slide"
    }
   },
   "source": [
    "Let's take another look at our \"problem\":"
   ]
  },
  {
   "cell_type": "code",
   "execution_count": 47,
   "metadata": {
    "collapsed": false,
    "slideshow": {
     "slide_type": "fragment"
    }
   },
   "outputs": [
    {
     "name": "stdout",
     "output_type": "stream",
     "text": [
      "[[ 1  2  3  4]\n",
      " [ 5  6  7  8]\n",
      " [ 9 10 10 12]]\n",
      "\n",
      "[[1 2 3 4]\n",
      " [5 6 7 8]]\n"
     ]
    }
   ],
   "source": [
    "print xl\n",
    "print\n",
    "two_by_two = xl[0:2][0:2]\n",
    "print two_by_two"
   ]
  },
  {
   "cell_type": "markdown",
   "metadata": {
    "slideshow": {
     "slide_type": "fragment"
    }
   },
   "source": [
    "This should make sense now!\n",
    "\n",
    "\"xl[0:2]\" says *\"return the first two rows of the array xl\"*\n",
    "* The output of this is itself an array (with two rows)! <br><br>\n",
    "\n",
    "\"xl[0:2][0:2]\" says *\"take the first two rows of the array given by xl[0:2]\"*\n",
    "* So we just get both of the rows of xl[0:2] again!<br><br>\n",
    "\n",
    "Note that the notation for accessing actual *lists* within *lists* works in exactly the same way."
   ]
  },
  {
   "cell_type": "markdown",
   "metadata": {
    "slideshow": {
     "slide_type": "skip"
    }
   },
   "source": [
    "If this still doesn't make sense, we can make it even more explicit. Writing xl[0:2][0:2] is literally just a short-hand for the following sequence of operations:"
   ]
  },
  {
   "cell_type": "code",
   "execution_count": 48,
   "metadata": {
    "collapsed": false,
    "slideshow": {
     "slide_type": "skip"
    }
   },
   "outputs": [
    {
     "name": "stdout",
     "output_type": "stream",
     "text": [
      "[[ 1  2  3  4]\n",
      " [ 5  6  7  8]\n",
      " [ 9 10 10 12]]\n",
      "\n",
      "[[1 2 3 4]\n",
      " [5 6 7 8]]\n",
      "\n",
      "[[1 2 3 4]\n",
      " [5 6 7 8]]\n"
     ]
    }
   ],
   "source": [
    "print xl\n",
    "#\n",
    "OUT = xl[0:2]\n",
    "print\n",
    "print OUT\n",
    "#\n",
    "OUT2 = OUT[0:2]\n",
    "print\n",
    "print OUT2"
   ]
  },
  {
   "cell_type": "markdown",
   "metadata": {
    "collapsed": true,
    "slideshow": {
     "slide_type": "slide"
    }
   },
   "source": [
    "So how **do** we extract a sub-matrix?"
   ]
  },
  {
   "cell_type": "markdown",
   "metadata": {
    "slideshow": {
     "slide_type": "skip"
    }
   },
   "source": [
    "Well, the obvious way is to write a loop that cycles through the elements we want. How do we do that?\n",
    "\n",
    "In our example (grabbing to 2x2 sub-matrix on the top-left), we want to access elements (0, 0) (0, 1) (1, 0) and (1, 1) of the full matrix. So we need to cycle through something like rows = 0,1 and cols = 0,1."
   ]
  },
  {
   "cell_type": "markdown",
   "metadata": {
    "slideshow": {
     "slide_type": "fragment"
    }
   },
   "source": [
    "Let's first of all just grab the relevant elements by looping over the array:"
   ]
  },
  {
   "cell_type": "code",
   "execution_count": 49,
   "metadata": {
    "collapsed": false,
    "slideshow": {
     "slide_type": "fragment"
    }
   },
   "outputs": [
    {
     "name": "stdout",
     "output_type": "stream",
     "text": [
      "The full matrix:\n",
      "[[ 1  2  3  4]\n",
      " [ 5  6  7  8]\n",
      " [ 9 10 10 12]]\n",
      "\n",
      "rows =  [0 1] and cols =  [0 1]\n",
      "\n",
      "1\n",
      "2\n",
      "5\n",
      "6\n"
     ]
    }
   ],
   "source": [
    "print 'The full matrix:'\n",
    "print xl\n",
    "print\n",
    "rows = np.arange(2)\n",
    "cols = np.arange(2)\n",
    "print 'rows = ',rows, 'and cols = ',cols\n",
    "print\n",
    "for row in rows:\n",
    "    for col in cols:\n",
    "        print xl[row][col]\n"
   ]
  },
  {
   "cell_type": "markdown",
   "metadata": {
    "slideshow": {
     "slide_type": "skip"
    }
   },
   "source": [
    "So this gives us the correct elements, but we also want to stuff them into an actual 2-D array.\n",
    "\n",
    "This is easy: we just need to first create that array (with the right *shape*) and then stuff the relevant elements into it."
   ]
  },
  {
   "cell_type": "markdown",
   "metadata": {
    "slideshow": {
     "slide_type": "slide"
    }
   },
   "source": [
    "Let's put this together and create the sub-matrix we want:"
   ]
  },
  {
   "cell_type": "code",
   "execution_count": 50,
   "metadata": {
    "collapsed": false,
    "slideshow": {
     "slide_type": "fragment"
    }
   },
   "outputs": [
    {
     "name": "stdout",
     "output_type": "stream",
     "text": [
      "rows =  [0 1] and cols =  [0 1]\n",
      "\n",
      "The submatrix is:\n",
      "[[ 1.  2.]\n",
      " [ 5.  6.]]\n"
     ]
    }
   ],
   "source": [
    "submatrix = np.zeros((2,2))\n",
    "rows = np.arange(2)\n",
    "cols = np.arange(2)\n",
    "print 'rows = ',rows, 'and cols = ',cols\n",
    "print\n",
    "for row in rows:\n",
    "    for col in cols:\n",
    "        submatrix[row][col] = xl[row][col]\n",
    "print 'The submatrix is:'\n",
    "print submatrix"
   ]
  },
  {
   "cell_type": "markdown",
   "metadata": {
    "slideshow": {
     "slide_type": "skip"
    }
   },
   "source": [
    "##### Exercise\n",
    "\n",
    "Modify the code above to extract the 3x3 matrix at the top left.<br>\n",
    "Modify it again to extract the 3x3 matrix at the bottom right.<br>\n",
    "Modify it yet again to extract the sub-matrix defined by row 1:2 and columns 1:2.\n",
    "\n",
    "##### Exercise\n",
    "\n",
    "Write and save a function that takes as input an arbitrary 2-D array and a tuple defining the top-left and bottom-right corners of the sub-matrix of the array that the function should extract. The function should then extract that sub-matrix, store it in a 2-D array and return this sub-matrix. The function should also check for obvious input errors: it should return gracefully with an error message if the sub-matrix actually extends beyond the edges of the input array, or if the dimensions of the array (or the tuple defining the sub-matrix) are not consistent with what the function is assuming."
   ]
  },
  {
   "cell_type": "markdown",
   "metadata": {
    "slideshow": {
     "slide_type": "skip"
    }
   },
   "source": [
    "#### Optional topic: advanced indexing and numpy.ix_\n",
    "\n",
    "*numpy* actually provides a neat (and faster) way of doing this sort of thing without explicit looping, via a little bit of magic called \"advanced indexing\". \n",
    "\n",
    "We're not going to go into this in any detail at all here -- as the name implies, this is really a more advanced topic and not something we absolutely need to write useful *Python* programs. Instead, we'll just look at a couple of examples to see how it works. Those of you who are interested and feel adventurous may then want to look into it some more (e.g. here: http://docs.scipy.org/doc/numpy/reference/arrays.indexing.html )\n",
    "\n",
    "So, basically, when we access an array with the \"array[x][y]\" notation, the things in the \"[ ]\" tell *Python* which elements to access -- either directly (i.e. x and y can be *ints*) or via slicing (i.e. they can be ranges denoted by things like \"1:2\"). However, it turns out the thing inside the \"[ ]\" can also be something like a *list* or an *array* (or a tuple containing those things). In that case, *Python* interprets things a bit differently. \n",
    "\n",
    "The easiest way to understand this is by example. Suppose we want to access the element in colunmn 1 in row 0, column 0 in row 1 and column 3 in row 2. The advanced indexing way to do this is as follows:"
   ]
  },
  {
   "cell_type": "code",
   "execution_count": 51,
   "metadata": {
    "collapsed": false,
    "slideshow": {
     "slide_type": "skip"
    }
   },
   "outputs": [
    {
     "name": "stdout",
     "output_type": "stream",
     "text": [
      "[[ 1  2  3  4]\n",
      " [ 5  6  7  8]\n",
      " [ 9 10 10 12]]\n",
      "\n",
      "[ 2  5 12]\n"
     ]
    }
   ],
   "source": [
    "print xl\n",
    "rows = np.array([0, 1, 2])\n",
    "cols = np.array([1, 0, 3])\n",
    "print\n",
    "print xl[rows,cols]"
   ]
  },
  {
   "cell_type": "markdown",
   "metadata": {
    "slideshow": {
     "slide_type": "skip"
    }
   },
   "source": [
    "One particularly clever thing about advanced indexing is that, if you give one row and one column vector in an array \"[ ]\", it assumes you're not just talking about individual elements anymore, but about sub-matrixes.\n",
    "\n",
    "For example:"
   ]
  },
  {
   "cell_type": "code",
   "execution_count": 53,
   "metadata": {
    "collapsed": false,
    "slideshow": {
     "slide_type": "skip"
    }
   },
   "outputs": [
    {
     "name": "stdout",
     "output_type": "stream",
     "text": [
      "[[0]\n",
      " [1]]\n",
      "\n",
      "[[0 1]]\n",
      "\n",
      "[[1 2]\n",
      " [5 6]]\n"
     ]
    }
   ],
   "source": [
    "rows = np.array([0, 1])\n",
    "cols = np.array([0, 1])\n",
    "rows = np.reshape(rows, (2, 1))\n",
    "cols = np.reshape(cols, (1, 2))\n",
    "print rows\n",
    "print\n",
    "print cols\n",
    "print\n",
    "print xl[rows, cols]"
   ]
  },
  {
   "cell_type": "markdown",
   "metadata": {
    "slideshow": {
     "slide_type": "skip"
    }
   },
   "source": [
    "Note that we have to make a column vector that specifies the rows, and a row vector that specifies the columns.\n",
    "\n",
    "That makes sense though: we can think of row vector \"cols\" = [[0 1]]\" as the horizontal \"header\" of the table defined by the matrix, and the column vector rows as the vertical row labels for the table."
   ]
  },
  {
   "cell_type": "markdown",
   "metadata": {
    "slideshow": {
     "slide_type": "skip"
    }
   },
   "source": [
    "As a convenient shorthand, python does allow us to us slicing notation as well. So, for example, \"a[1:3, 2:4]\" will be interpreted by python as \"a[[1,2],[2,3]]\", which is a very convenient way to make sub-matrices:"
   ]
  },
  {
   "cell_type": "code",
   "execution_count": 64,
   "metadata": {
    "collapsed": false,
    "slideshow": {
     "slide_type": "skip"
    }
   },
   "outputs": [
    {
     "name": "stdout",
     "output_type": "stream",
     "text": [
      "[[ 1  2  3  4]\n",
      " [ 5  6  7  8]\n",
      " [ 9 10 10 12]]\n",
      "\n",
      "[[1 2]\n",
      " [5 6]]\n"
     ]
    }
   ],
   "source": [
    "print xl\n",
    "two_by_two = xl[0:2, 0:2]\n",
    "print\n",
    "print two_by_two"
   ]
  },
  {
   "cell_type": "markdown",
   "metadata": {},
   "source": [
    "We can also use this same notation to conveniently extract column vectors from a matrix (but note that they'll be \"re-shaped\" - see below -- into row vectors then):"
   ]
  },
  {
   "cell_type": "code",
   "execution_count": 66,
   "metadata": {
    "collapsed": false
   },
   "outputs": [
    {
     "name": "stdout",
     "output_type": "stream",
     "text": [
      "[ 2  6 10]\n"
     ]
    }
   ],
   "source": [
    "col2 = xl[:,1]\n",
    "print col2"
   ]
  },
  {
   "cell_type": "markdown",
   "metadata": {
    "slideshow": {
     "slide_type": "skip"
    }
   },
   "source": [
    "Finally, *numpy* even provides us with a built-in function called \"ix_\" that creates the row and column vectors we need to extract specific rows and columns from a matrix.\n",
    "\n",
    "It's easiest to illustrate this by example again:"
   ]
  },
  {
   "cell_type": "code",
   "execution_count": 54,
   "metadata": {
    "collapsed": false,
    "slideshow": {
     "slide_type": "skip"
    }
   },
   "outputs": [
    {
     "name": "stdout",
     "output_type": "stream",
     "text": [
      "The original matrix:\n",
      "[[ 1  2  3  4]\n",
      " [ 5  6  7  8]\n",
      " [ 9 10 10 12]]\n",
      "\n",
      "Output from ix_\n",
      "(array([[0],\n",
      "       [1]]), array([[0, 1]]))\n",
      "\n",
      "The sub-matrix\n",
      "[[1 2]\n",
      " [5 6]]\n"
     ]
    }
   ],
   "source": [
    "print 'The original matrix:'\n",
    "print xl\n",
    "print\n",
    "print 'Output from ix_'\n",
    "print np.ix_([0,1],[0,1])\n",
    "print\n",
    "print 'The sub-matrix'\n",
    "print xl[np.ix_([0,1],[0,1])]"
   ]
  },
  {
   "cell_type": "markdown",
   "metadata": {
    "slideshow": {
     "slide_type": "skip"
    }
   },
   "source": [
    "If we instead wanted, say, the sub-matrix defined by rows 0 and 1 and columns 1 and 2, we can simply write:"
   ]
  },
  {
   "cell_type": "code",
   "execution_count": 55,
   "metadata": {
    "collapsed": false,
    "slideshow": {
     "slide_type": "skip"
    }
   },
   "outputs": [
    {
     "name": "stdout",
     "output_type": "stream",
     "text": [
      "The original matrix:\n",
      "[[ 1  2  3  4]\n",
      " [ 5  6  7  8]\n",
      " [ 9 10 10 12]]\n",
      "\n",
      "Output from ix_\n",
      "(array([[0],\n",
      "       [1]]), array([[1, 2]]))\n",
      "\n",
      "The sub-matrix\n",
      "[[2 3]\n",
      " [6 7]]\n"
     ]
    }
   ],
   "source": [
    "print 'The original matrix:'\n",
    "print xl\n",
    "print\n",
    "print 'Output from ix_'\n",
    "print np.ix_([0,1],[1,2])\n",
    "print\n",
    "print 'The sub-matrix'\n",
    "print xl[np.ix_([0,1],[1,2])]"
   ]
  },
  {
   "cell_type": "markdown",
   "metadata": {
    "slideshow": {
     "slide_type": "skip"
    }
   },
   "source": [
    "### Higher-dimensional arrays\n",
    "\n",
    "*Python* naturally provides support for higher dimensional *arrays*. These work pretty much exactly as we'd expect, based on how 1-D and 2-D *arrays* work.\n",
    "\n",
    "In this course, we're not going to deal with higher dimensional *arrays* any further, but just be aware that they exist."
   ]
  },
  {
   "cell_type": "markdown",
   "metadata": {
    "slideshow": {
     "slide_type": "skip"
    }
   },
   "source": [
    "##### Exercise\n",
    "\n",
    "Suppose you've done an experiment in which we've measured the temperature in a regular grid of x, y, z positions in a square box. Write a function that takes as input the number of points in your data set along each axis (as a *tuple*) and creates a 3-D array that can store the temperatures you've measured.<br>\n",
    "\n",
    "Write another function that can access the temperature at a given grid point (identificed by its 3-D index i, j, k in the x, y, z directions).<br>\n",
    "\n",
    "Test your functions by setting up some small pieces of mock data by hand and calling your functions.\n",
    "\n",
    "##### Exercise\n",
    "\n",
    "Now suppose the temperature was not measured along a regular grid, but at a bunch of fairly random x, y, z locations in the box. You still need to store the temperatures, but now you also need to store the actual positions alongside the temperatures. Modify your function so that it creates an array that can simultaneously store all of the relevant information. What data type should you use for each array element?"
   ]
  },
  {
   "cell_type": "markdown",
   "metadata": {
    "slideshow": {
     "slide_type": "slide"
    }
   },
   "source": [
    "### Converting and reshaping arrays\n",
    "\n",
    "*Python* makes it fairly easy to convert between *arrays*, *lists* and *tuples*. \n",
    "\n",
    "For 1-D *arrays*, it's really trivial:"
   ]
  },
  {
   "cell_type": "code",
   "execution_count": 56,
   "metadata": {
    "collapsed": false,
    "slideshow": {
     "slide_type": "fragment"
    }
   },
   "outputs": [
    {
     "name": "stdout",
     "output_type": "stream",
     "text": [
      "[1 2 3 4]\n",
      "[1, 2, 3, 4]\n"
     ]
    }
   ],
   "source": [
    "array1d = np.array([1, 2, 3, 4])\n",
    "print array1d\n",
    "#\n",
    "list1d = list(array1d)\n",
    "print list1d"
   ]
  },
  {
   "cell_type": "markdown",
   "metadata": {
    "slideshow": {
     "slide_type": "slide"
    }
   },
   "source": [
    "For 2-D arrays, we just have to be a bit careful to be clear what we are telling *Python*. For example:"
   ]
  },
  {
   "cell_type": "code",
   "execution_count": 57,
   "metadata": {
    "collapsed": false,
    "slideshow": {
     "slide_type": "fragment"
    }
   },
   "outputs": [
    {
     "name": "stdout",
     "output_type": "stream",
     "text": [
      "[[ 1  2  3  4]\n",
      " [ 5  6  7  8]\n",
      " [ 9 10 10 12]]\n",
      "[array([1, 2, 3, 4]), array([5, 6, 7, 8]), array([ 9, 10, 10, 12])]\n"
     ]
    }
   ],
   "source": [
    "array2d = xl\n",
    "print array2d\n",
    "#\n",
    "list2d = list(array2d)\n",
    "print list2d"
   ]
  },
  {
   "cell_type": "markdown",
   "metadata": {
    "slideshow": {
     "slide_type": "fragment"
    }
   },
   "source": [
    "This did **not** produce a *list* of *lists*, but a *list* of *arrays*, which makes sense when we think about it."
   ]
  },
  {
   "cell_type": "markdown",
   "metadata": {
    "slideshow": {
     "slide_type": "slide"
    }
   },
   "source": [
    "How would we convert to a *list* of *lists*?\n",
    "\n",
    "Conveniently, *numpy* has a built-in *function* for this, within the *module* *ndarray*:"
   ]
  },
  {
   "cell_type": "code",
   "execution_count": 58,
   "metadata": {
    "collapsed": false,
    "slideshow": {
     "slide_type": "fragment"
    }
   },
   "outputs": [
    {
     "name": "stdout",
     "output_type": "stream",
     "text": [
      "[[1, 2, 3, 4], [5, 6, 7, 8], [9, 10, 10, 12]]\n"
     ]
    }
   ],
   "source": [
    "list2d = np.ndarray.tolist(array2d)\n",
    "print list2d"
   ]
  },
  {
   "cell_type": "markdown",
   "metadata": {
    "slideshow": {
     "slide_type": "fragment"
    }
   },
   "source": [
    "There is also a function for the inverse operation, converting from a *list* (or *list* of *lists*) to an *array*:"
   ]
  },
  {
   "cell_type": "code",
   "execution_count": 59,
   "metadata": {
    "collapsed": false,
    "slideshow": {
     "slide_type": "fragment"
    }
   },
   "outputs": [
    {
     "name": "stdout",
     "output_type": "stream",
     "text": [
      "[[ 1  2  3  4]\n",
      " [ 5  6  7  8]\n",
      " [ 9 10 10 12]]\n"
     ]
    }
   ],
   "source": [
    "new_array2d = numpy.asarray(list2d)\n",
    "print new_array2d"
   ]
  },
  {
   "cell_type": "markdown",
   "metadata": {
    "slideshow": {
     "slide_type": "skip"
    }
   },
   "source": [
    "##### Exercise\n",
    "\n",
    "Write and test a function that will swap two user-defined rows of a given 2-D array."
   ]
  },
  {
   "cell_type": "markdown",
   "metadata": {
    "slideshow": {
     "slide_type": "skip"
    }
   },
   "source": [
    "##### Exercise: Tic-Tac-Toe or Connect 4\n",
    "\n",
    "We have been thinking using a hypothetical program that will play tic-tac-toe throughout this coudrse. We have been doing this as a way to help us think concretely about how the things we are learning actually help us solve a particular problem. Let's turn the hypothetical program into a real one!\n",
    "\n",
    "Write a program that will have the computer play either Tic-Tac-Toe or Connect 4 against the user. (Remember that such a Connect 4 program is actually your first assessed assignment!)\n",
    "\n",
    "I suggest the following strategy:\n",
    "\n",
    "* the game board can be represented conveniently as an array\n",
    "* at each step, the user specifies the location where they want to put their \"X\" or \"O\" (or Connect 4 symbols)\n",
    "    * this is the one thing we have not covered yet: interactive input\n",
    "    * all you need to know for this will be provided below\n",
    "    * the way this works is different between tic-tac-toe and Connect 4\n",
    "        * in tic-tac-toe, you place symbols directly into the position you want\n",
    "        * in Connect 4, you just choose a column to drop your symbol into\n",
    "* within the program, you might want to use *ints* to represent \"X\" and \"O\" (or the c\n",
    "    * this might make it easier for you to check if somebody has won...\n",
    "* the computer's moves should be random\n",
    "    * you can use *numpy*'s random number generation functions to create those moves\n",
    "* for both the computer and the user, you'll need to check that the move they are trying is legal\n",
    "    * if the user is trying to make a legal move:\n",
    "        * give an informative error:\n",
    "            * \"position out of bounds\"\n",
    "            * \"position already occupied\"\n",
    "        *  and prompt for new input \n",
    "    * if the computer makes an illegal move\n",
    "        * keep generating random moves until we get a legal one\n",
    "* after each move by a player, print the matrix representing the current state of the game\n",
    "* the game finishes when either\n",
    "    * one player has three \"X\"s or \"O\"s in a line (tic-tac-toe) or 4 symbols in a line (Connect 4)\n",
    "        * that player wins!\n",
    "    * the entire game board (array) is filled\n",
    "        * it's a draw!"
   ]
  },
  {
   "cell_type": "markdown",
   "metadata": {
    "slideshow": {
     "slide_type": "skip"
    }
   },
   "source": [
    "Here is the one thing you need to know that we haven't learned yet: how do we accept user input? \n",
    "\n",
    "The easiest way to do this is via the \"input\" function. This is pretty clever, in that it tries to guess what sort of data type is being read by looking at the data itself."
   ]
  },
  {
   "cell_type": "code",
   "execution_count": 60,
   "metadata": {
    "collapsed": false,
    "slideshow": {
     "slide_type": "skip"
    }
   },
   "outputs": [
    {
     "name": "stdout",
     "output_type": "stream",
     "text": [
      "enter an integer: 1\n",
      "1 <type 'int'>\n"
     ]
    }
   ],
   "source": [
    "i = input('enter an integer: ')\n",
    "print i, type(i)"
   ]
  },
  {
   "cell_type": "code",
   "execution_count": 61,
   "metadata": {
    "collapsed": false,
    "slideshow": {
     "slide_type": "skip"
    }
   },
   "outputs": [
    {
     "name": "stdout",
     "output_type": "stream",
     "text": [
      "enter a float: 1.0\n",
      "1.0 <type 'float'>\n"
     ]
    }
   ],
   "source": [
    "f = input('enter a float: ')\n",
    "print f, type(f)"
   ]
  },
  {
   "cell_type": "markdown",
   "metadata": {
    "slideshow": {
     "slide_type": "skip"
    }
   },
   "source": [
    "Let's say we want the user to enter \"1,2\" (for position row = 1, col = 2). We then have to convert the string \"1,2\" into a tuple of ints."
   ]
  },
  {
   "cell_type": "code",
   "execution_count": 62,
   "metadata": {
    "collapsed": false,
    "slideshow": {
     "slide_type": "skip"
    }
   },
   "outputs": [
    {
     "name": "stdout",
     "output_type": "stream",
     "text": [
      "enter two integers: 1\n"
     ]
    },
    {
     "ename": "TypeError",
     "evalue": "'int' object is not iterable",
     "output_type": "error",
     "traceback": [
      "\u001b[0;31m---------------------------------------------------------------------------\u001b[0m",
      "\u001b[0;31mTypeError\u001b[0m                                 Traceback (most recent call last)",
      "\u001b[0;32m<ipython-input-62-acdca1135914>\u001b[0m in \u001b[0;36m<module>\u001b[0;34m()\u001b[0m\n\u001b[0;32m----> 1\u001b[0;31m \u001b[0mi\u001b[0m\u001b[0;34m,\u001b[0m \u001b[0mj\u001b[0m \u001b[0;34m=\u001b[0m \u001b[0minput\u001b[0m\u001b[0;34m(\u001b[0m\u001b[0;34m'enter two integers: '\u001b[0m\u001b[0;34m)\u001b[0m\u001b[0;34m\u001b[0m\u001b[0m\n\u001b[0m\u001b[1;32m      2\u001b[0m \u001b[0;32mprint\u001b[0m \u001b[0mi\u001b[0m\u001b[0;34m,\u001b[0m \u001b[0mtype\u001b[0m\u001b[0;34m(\u001b[0m\u001b[0mi\u001b[0m\u001b[0;34m)\u001b[0m\u001b[0;34m\u001b[0m\u001b[0m\n\u001b[1;32m      3\u001b[0m \u001b[0;32mprint\u001b[0m \u001b[0mj\u001b[0m\u001b[0;34m,\u001b[0m \u001b[0mtype\u001b[0m\u001b[0;34m(\u001b[0m\u001b[0mj\u001b[0m\u001b[0;34m)\u001b[0m\u001b[0;34m\u001b[0m\u001b[0m\n",
      "\u001b[0;31mTypeError\u001b[0m: 'int' object is not iterable"
     ]
    }
   ],
   "source": [
    "i, j = input('enter two integers: ')\n",
    "print i, type(i)\n",
    "print j, type(j)"
   ]
  },
  {
   "cell_type": "markdown",
   "metadata": {
    "slideshow": {
     "slide_type": "skip"
    }
   },
   "source": [
    "Tic-tac-toe or Connect 4 are really nice exercises, because they involves just about every concept we've come across so far. You'll need to use loops, if-then statements and numpy functions, define your own functions and create, access and use arrays. I should also get you to look some more at all the various functions that are now available for your pleasure, be it directly built in to python (e.g. *input*) or built into *numpy* or *scipy* (e.g. the random numbers you'll want to generate).\n",
    "\n",
    "Oh, and you get to play tic-tac-toe and/or Connect 4 against the computer at the end!\n",
    "\n",
    "Ready, Player One?\n",
    "\n",
    "(That's a pretty good book, by the way....)"
   ]
  }
 ],
 "metadata": {
  "celltoolbar": "Slideshow",
  "kernelspec": {
   "display_name": "Python 2",
   "language": "python",
   "name": "python2"
  },
  "language_info": {
   "codemirror_mode": {
    "name": "ipython",
    "version": 3
   },
   "file_extension": ".py",
   "mimetype": "text/x-python",
   "name": "python",
   "nbconvert_exporter": "python",
   "pygments_lexer": "ipython3",
   "version": "3.6.3"
  },
  "latex_envs": {
   "bibliofile": "biblio.bib",
   "cite_by": "apalike",
   "current_citInitial": 1,
   "eqLabelWithNumbers": true,
   "eqNumInitial": 0
  }
 },
 "nbformat": 4,
 "nbformat_minor": 1
}
